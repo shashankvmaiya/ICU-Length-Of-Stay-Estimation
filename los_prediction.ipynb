{
 "cells": [
  {
   "cell_type": "code",
   "execution_count": 1,
   "id": "abd7cb5e",
   "metadata": {},
   "outputs": [],
   "source": [
    "import numpy as np\n",
    "import pymysql\n",
    "from datetime import datetime\n",
    "import matplotlib.pyplot as plt\n",
    "from collections import defaultdict\n",
    "import math\n",
    "import json\n",
    "import time\n",
    "\n",
    "import os\n",
    "import pandas as pd\n",
    "\n",
    "pd.set_option('display.max_colwidth', None)\n",
    "pd.set_option('display.max_rows', 100)"
   ]
  },
  {
   "cell_type": "code",
   "execution_count": 2,
   "id": "b36f2bb3",
   "metadata": {},
   "outputs": [],
   "source": [
    "data_folder = 'data'"
   ]
  },
  {
   "cell_type": "markdown",
   "id": "83ee3164",
   "metadata": {},
   "source": [
    "## Data"
   ]
  },
  {
   "cell_type": "code",
   "execution_count": 3,
   "id": "782c4ca2",
   "metadata": {},
   "outputs": [],
   "source": [
    "static_data = pd.read_csv('{}/set-b_df_baseline.csv'.format(data_folder))\n",
    "dynamic_data = pd.read_csv('{}/set-b_df_timeseries.csv'.format(data_folder))\n",
    "outcomes = pd.read_csv('{}/Outcomes-b.csv'.format(data_folder))"
   ]
  },
  {
   "cell_type": "markdown",
   "id": "05a5b4a4",
   "metadata": {},
   "source": [
    "### Static data"
   ]
  },
  {
   "cell_type": "code",
   "execution_count": 4,
   "id": "11f91585",
   "metadata": {},
   "outputs": [
    {
     "data": {
      "text/html": [
       "<div>\n",
       "<style scoped>\n",
       "    .dataframe tbody tr th:only-of-type {\n",
       "        vertical-align: middle;\n",
       "    }\n",
       "\n",
       "    .dataframe tbody tr th {\n",
       "        vertical-align: top;\n",
       "    }\n",
       "\n",
       "    .dataframe thead th {\n",
       "        text-align: right;\n",
       "    }\n",
       "</style>\n",
       "<table border=\"1\" class=\"dataframe\">\n",
       "  <thead>\n",
       "    <tr style=\"text-align: right;\">\n",
       "      <th></th>\n",
       "      <th>Unnamed: 0</th>\n",
       "      <th>RecordID</th>\n",
       "      <th>Age</th>\n",
       "      <th>Gender</th>\n",
       "      <th>Height</th>\n",
       "      <th>ICUType</th>\n",
       "      <th>Weight</th>\n",
       "    </tr>\n",
       "  </thead>\n",
       "  <tbody>\n",
       "    <tr>\n",
       "      <th>0</th>\n",
       "      <td>0</td>\n",
       "      <td>144404</td>\n",
       "      <td>71</td>\n",
       "      <td>1</td>\n",
       "      <td>172.7</td>\n",
       "      <td>4</td>\n",
       "      <td>74.2</td>\n",
       "    </tr>\n",
       "    <tr>\n",
       "      <th>1</th>\n",
       "      <td>1</td>\n",
       "      <td>148558</td>\n",
       "      <td>76</td>\n",
       "      <td>0</td>\n",
       "      <td>-1.0</td>\n",
       "      <td>3</td>\n",
       "      <td>76.3</td>\n",
       "    </tr>\n",
       "    <tr>\n",
       "      <th>2</th>\n",
       "      <td>2</td>\n",
       "      <td>146575</td>\n",
       "      <td>42</td>\n",
       "      <td>0</td>\n",
       "      <td>172.7</td>\n",
       "      <td>3</td>\n",
       "      <td>136.4</td>\n",
       "    </tr>\n",
       "    <tr>\n",
       "      <th>3</th>\n",
       "      <td>3</td>\n",
       "      <td>142713</td>\n",
       "      <td>90</td>\n",
       "      <td>0</td>\n",
       "      <td>-1.0</td>\n",
       "      <td>4</td>\n",
       "      <td>54.1</td>\n",
       "    </tr>\n",
       "    <tr>\n",
       "      <th>4</th>\n",
       "      <td>4</td>\n",
       "      <td>145068</td>\n",
       "      <td>45</td>\n",
       "      <td>1</td>\n",
       "      <td>175.3</td>\n",
       "      <td>1</td>\n",
       "      <td>103.0</td>\n",
       "    </tr>\n",
       "  </tbody>\n",
       "</table>\n",
       "</div>"
      ],
      "text/plain": [
       "   Unnamed: 0  RecordID  Age  Gender  Height  ICUType  Weight\n",
       "0           0    144404   71       1   172.7        4    74.2\n",
       "1           1    148558   76       0    -1.0        3    76.3\n",
       "2           2    146575   42       0   172.7        3   136.4\n",
       "3           3    142713   90       0    -1.0        4    54.1\n",
       "4           4    145068   45       1   175.3        1   103.0"
      ]
     },
     "execution_count": 4,
     "metadata": {},
     "output_type": "execute_result"
    }
   ],
   "source": [
    "static_data.head()"
   ]
  },
  {
   "cell_type": "code",
   "execution_count": 5,
   "id": "893a651e",
   "metadata": {},
   "outputs": [
    {
     "name": "stdout",
     "output_type": "stream",
     "text": [
      "<class 'pandas.core.frame.DataFrame'>\n",
      "RangeIndex: 4000 entries, 0 to 3999\n",
      "Data columns (total 7 columns):\n",
      " #   Column      Non-Null Count  Dtype  \n",
      "---  ------      --------------  -----  \n",
      " 0   Unnamed: 0  4000 non-null   int64  \n",
      " 1   RecordID    4000 non-null   int64  \n",
      " 2   Age         4000 non-null   int64  \n",
      " 3   Gender      4000 non-null   int64  \n",
      " 4   Height      4000 non-null   float64\n",
      " 5   ICUType     4000 non-null   int64  \n",
      " 6   Weight      4000 non-null   float64\n",
      "dtypes: float64(2), int64(5)\n",
      "memory usage: 218.9 KB\n"
     ]
    }
   ],
   "source": [
    "static_data.info()"
   ]
  },
  {
   "cell_type": "code",
   "execution_count": 6,
   "id": "b1f9c501",
   "metadata": {},
   "outputs": [
    {
     "data": {
      "text/html": [
       "<div>\n",
       "<style scoped>\n",
       "    .dataframe tbody tr th:only-of-type {\n",
       "        vertical-align: middle;\n",
       "    }\n",
       "\n",
       "    .dataframe tbody tr th {\n",
       "        vertical-align: top;\n",
       "    }\n",
       "\n",
       "    .dataframe thead th {\n",
       "        text-align: right;\n",
       "    }\n",
       "</style>\n",
       "<table border=\"1\" class=\"dataframe\">\n",
       "  <thead>\n",
       "    <tr style=\"text-align: right;\">\n",
       "      <th></th>\n",
       "      <th>Unnamed: 0</th>\n",
       "      <th>RecordID</th>\n",
       "      <th>Age</th>\n",
       "      <th>Gender</th>\n",
       "      <th>Height</th>\n",
       "      <th>ICUType</th>\n",
       "      <th>Weight</th>\n",
       "    </tr>\n",
       "  </thead>\n",
       "  <tbody>\n",
       "    <tr>\n",
       "      <th>count</th>\n",
       "      <td>4000.000000</td>\n",
       "      <td>4000.000000</td>\n",
       "      <td>4000.000000</td>\n",
       "      <td>4000.000000</td>\n",
       "      <td>4000.000000</td>\n",
       "      <td>4000.000000</td>\n",
       "      <td>4000.000000</td>\n",
       "    </tr>\n",
       "    <tr>\n",
       "      <th>mean</th>\n",
       "      <td>1999.500000</td>\n",
       "      <td>147740.094750</td>\n",
       "      <td>64.612000</td>\n",
       "      <td>0.562000</td>\n",
       "      <td>87.316975</td>\n",
       "      <td>2.807500</td>\n",
       "      <td>74.310633</td>\n",
       "    </tr>\n",
       "    <tr>\n",
       "      <th>std</th>\n",
       "      <td>1154.844867</td>\n",
       "      <td>2949.498256</td>\n",
       "      <td>17.142037</td>\n",
       "      <td>0.498717</td>\n",
       "      <td>85.879238</td>\n",
       "      <td>1.023086</td>\n",
       "      <td>32.839311</td>\n",
       "    </tr>\n",
       "    <tr>\n",
       "      <th>min</th>\n",
       "      <td>0.000000</td>\n",
       "      <td>142675.000000</td>\n",
       "      <td>16.000000</td>\n",
       "      <td>-1.000000</td>\n",
       "      <td>-1.000000</td>\n",
       "      <td>1.000000</td>\n",
       "      <td>-1.000000</td>\n",
       "    </tr>\n",
       "    <tr>\n",
       "      <th>25%</th>\n",
       "      <td>999.750000</td>\n",
       "      <td>145157.250000</td>\n",
       "      <td>53.000000</td>\n",
       "      <td>0.000000</td>\n",
       "      <td>-1.000000</td>\n",
       "      <td>2.000000</td>\n",
       "      <td>62.000000</td>\n",
       "    </tr>\n",
       "    <tr>\n",
       "      <th>50%</th>\n",
       "      <td>1999.500000</td>\n",
       "      <td>147739.000000</td>\n",
       "      <td>67.000000</td>\n",
       "      <td>1.000000</td>\n",
       "      <td>149.900000</td>\n",
       "      <td>3.000000</td>\n",
       "      <td>75.800000</td>\n",
       "    </tr>\n",
       "    <tr>\n",
       "      <th>75%</th>\n",
       "      <td>2999.250000</td>\n",
       "      <td>150285.500000</td>\n",
       "      <td>78.000000</td>\n",
       "      <td>1.000000</td>\n",
       "      <td>170.200000</td>\n",
       "      <td>4.000000</td>\n",
       "      <td>90.000000</td>\n",
       "    </tr>\n",
       "    <tr>\n",
       "      <th>max</th>\n",
       "      <td>3999.000000</td>\n",
       "      <td>152864.000000</td>\n",
       "      <td>90.000000</td>\n",
       "      <td>1.000000</td>\n",
       "      <td>462.300000</td>\n",
       "      <td>4.000000</td>\n",
       "      <td>472.000000</td>\n",
       "    </tr>\n",
       "  </tbody>\n",
       "</table>\n",
       "</div>"
      ],
      "text/plain": [
       "        Unnamed: 0       RecordID          Age       Gender       Height  \\\n",
       "count  4000.000000    4000.000000  4000.000000  4000.000000  4000.000000   \n",
       "mean   1999.500000  147740.094750    64.612000     0.562000    87.316975   \n",
       "std    1154.844867    2949.498256    17.142037     0.498717    85.879238   \n",
       "min       0.000000  142675.000000    16.000000    -1.000000    -1.000000   \n",
       "25%     999.750000  145157.250000    53.000000     0.000000    -1.000000   \n",
       "50%    1999.500000  147739.000000    67.000000     1.000000   149.900000   \n",
       "75%    2999.250000  150285.500000    78.000000     1.000000   170.200000   \n",
       "max    3999.000000  152864.000000    90.000000     1.000000   462.300000   \n",
       "\n",
       "           ICUType       Weight  \n",
       "count  4000.000000  4000.000000  \n",
       "mean      2.807500    74.310633  \n",
       "std       1.023086    32.839311  \n",
       "min       1.000000    -1.000000  \n",
       "25%       2.000000    62.000000  \n",
       "50%       3.000000    75.800000  \n",
       "75%       4.000000    90.000000  \n",
       "max       4.000000   472.000000  "
      ]
     },
     "execution_count": 6,
     "metadata": {},
     "output_type": "execute_result"
    }
   ],
   "source": [
    "static_data.describe()"
   ]
  },
  {
   "cell_type": "code",
   "execution_count": 7,
   "id": "0b7b1ca8",
   "metadata": {},
   "outputs": [],
   "source": [
    "static_data['Gender']=static_data['Gender'].astype('category')\n",
    "static_data['ICUType']=static_data['ICUType'].astype('category')"
   ]
  },
  {
   "cell_type": "markdown",
   "id": "f567f3e8",
   "metadata": {},
   "source": [
    "#### Age"
   ]
  },
  {
   "cell_type": "code",
   "execution_count": 8,
   "id": "b5afa315",
   "metadata": {},
   "outputs": [
    {
     "data": {
      "text/plain": [
       "<AxesSubplot:ylabel='Frequency'>"
      ]
     },
     "execution_count": 8,
     "metadata": {},
     "output_type": "execute_result"
    },
    {
     "data": {
      "image/png": "[encoded data removed]",
      "text/plain": [
       "<Figure size 432x288 with 1 Axes>"
      ]
     },
     "metadata": {
      "needs_background": "light"
     },
     "output_type": "display_data"
    }
   ],
   "source": [
    "static_data.plot(y='Age', kind='hist')"
   ]
  },
  {
   "cell_type": "markdown",
   "id": "219c208a",
   "metadata": {},
   "source": [
    "#### Gender"
   ]
  },
  {
   "cell_type": "code",
   "execution_count": 9,
   "id": "a344e71c",
   "metadata": {},
   "outputs": [
    {
     "data": {
      "text/html": [
       "<div>\n",
       "<style scoped>\n",
       "    .dataframe tbody tr th:only-of-type {\n",
       "        vertical-align: middle;\n",
       "    }\n",
       "\n",
       "    .dataframe tbody tr th {\n",
       "        vertical-align: top;\n",
       "    }\n",
       "\n",
       "    .dataframe thead th {\n",
       "        text-align: right;\n",
       "    }\n",
       "</style>\n",
       "<table border=\"1\" class=\"dataframe\">\n",
       "  <thead>\n",
       "    <tr style=\"text-align: right;\">\n",
       "      <th></th>\n",
       "      <th>Unnamed: 0</th>\n",
       "      <th>RecordID</th>\n",
       "      <th>Age</th>\n",
       "      <th>Gender</th>\n",
       "      <th>Height</th>\n",
       "      <th>ICUType</th>\n",
       "      <th>Weight</th>\n",
       "    </tr>\n",
       "  </thead>\n",
       "  <tbody>\n",
       "    <tr>\n",
       "      <th>421</th>\n",
       "      <td>421</td>\n",
       "      <td>146615</td>\n",
       "      <td>34</td>\n",
       "      <td>-1</td>\n",
       "      <td>-1.0</td>\n",
       "      <td>3</td>\n",
       "      <td>73.8</td>\n",
       "    </tr>\n",
       "    <tr>\n",
       "      <th>2268</th>\n",
       "      <td>2268</td>\n",
       "      <td>143896</td>\n",
       "      <td>47</td>\n",
       "      <td>-1</td>\n",
       "      <td>-1.0</td>\n",
       "      <td>3</td>\n",
       "      <td>49.9</td>\n",
       "    </tr>\n",
       "    <tr>\n",
       "      <th>2554</th>\n",
       "      <td>2554</td>\n",
       "      <td>144078</td>\n",
       "      <td>86</td>\n",
       "      <td>-1</td>\n",
       "      <td>-1.0</td>\n",
       "      <td>3</td>\n",
       "      <td>59.8</td>\n",
       "    </tr>\n",
       "    <tr>\n",
       "      <th>2671</th>\n",
       "      <td>2671</td>\n",
       "      <td>147570</td>\n",
       "      <td>38</td>\n",
       "      <td>-1</td>\n",
       "      <td>-1.0</td>\n",
       "      <td>3</td>\n",
       "      <td>133.6</td>\n",
       "    </tr>\n",
       "    <tr>\n",
       "      <th>3641</th>\n",
       "      <td>3641</td>\n",
       "      <td>148436</td>\n",
       "      <td>78</td>\n",
       "      <td>-1</td>\n",
       "      <td>185.4</td>\n",
       "      <td>2</td>\n",
       "      <td>83.7</td>\n",
       "    </tr>\n",
       "  </tbody>\n",
       "</table>\n",
       "</div>"
      ],
      "text/plain": [
       "      Unnamed: 0  RecordID  Age Gender  Height ICUType  Weight\n",
       "421          421    146615   34     -1    -1.0       3    73.8\n",
       "2268        2268    143896   47     -1    -1.0       3    49.9\n",
       "2554        2554    144078   86     -1    -1.0       3    59.8\n",
       "2671        2671    147570   38     -1    -1.0       3   133.6\n",
       "3641        3641    148436   78     -1   185.4       2    83.7"
      ]
     },
     "execution_count": 9,
     "metadata": {},
     "output_type": "execute_result"
    }
   ],
   "source": [
    "static_data[static_data['Gender']==-1]"
   ]
  },
  {
   "cell_type": "code",
   "execution_count": 10,
   "id": "54265850",
   "metadata": {},
   "outputs": [
    {
     "data": {
      "text/html": [
       "<div>\n",
       "<style scoped>\n",
       "    .dataframe tbody tr th:only-of-type {\n",
       "        vertical-align: middle;\n",
       "    }\n",
       "\n",
       "    .dataframe tbody tr th {\n",
       "        vertical-align: top;\n",
       "    }\n",
       "\n",
       "    .dataframe thead th {\n",
       "        text-align: right;\n",
       "    }\n",
       "</style>\n",
       "<table border=\"1\" class=\"dataframe\">\n",
       "  <thead>\n",
       "    <tr style=\"text-align: right;\">\n",
       "      <th></th>\n",
       "      <th>Unnamed: 0</th>\n",
       "      <th>RecordID</th>\n",
       "      <th>Age</th>\n",
       "      <th>Gender</th>\n",
       "      <th>Height</th>\n",
       "      <th>ICUType</th>\n",
       "      <th>Weight</th>\n",
       "    </tr>\n",
       "  </thead>\n",
       "  <tbody>\n",
       "  </tbody>\n",
       "</table>\n",
       "</div>"
      ],
      "text/plain": [
       "Empty DataFrame\n",
       "Columns: [Unnamed: 0, RecordID, Age, Gender, Height, ICUType, Weight]\n",
       "Index: []"
      ]
     },
     "execution_count": 10,
     "metadata": {},
     "output_type": "execute_result"
    }
   ],
   "source": [
    "static_data.loc[static_data['Gender']==-1,'Gender']=1\n",
    "static_data[static_data['Gender']==-1]"
   ]
  },
  {
   "cell_type": "code",
   "execution_count": 11,
   "id": "9ac217df",
   "metadata": {},
   "outputs": [
    {
     "data": {
      "text/plain": [
       "<AxesSubplot:>"
      ]
     },
     "execution_count": 11,
     "metadata": {},
     "output_type": "execute_result"
    },
    {
     "data": {
      "image/png": "[encoded data removed]",
      "text/plain": [
       "<Figure size 432x288 with 1 Axes>"
      ]
     },
     "metadata": {
      "needs_background": "light"
     },
     "output_type": "display_data"
    }
   ],
   "source": [
    "static_data.Gender.value_counts().plot(kind='bar')"
   ]
  },
  {
   "cell_type": "markdown",
   "id": "df6dd8dd",
   "metadata": {},
   "source": [
    "#### Height"
   ]
  },
  {
   "cell_type": "code",
   "execution_count": 12,
   "id": "c55e477e",
   "metadata": {},
   "outputs": [
    {
     "data": {
      "text/html": [
       "<div>\n",
       "<style scoped>\n",
       "    .dataframe tbody tr th:only-of-type {\n",
       "        vertical-align: middle;\n",
       "    }\n",
       "\n",
       "    .dataframe tbody tr th {\n",
       "        vertical-align: top;\n",
       "    }\n",
       "\n",
       "    .dataframe thead th {\n",
       "        text-align: right;\n",
       "    }\n",
       "</style>\n",
       "<table border=\"1\" class=\"dataframe\">\n",
       "  <thead>\n",
       "    <tr style=\"text-align: right;\">\n",
       "      <th></th>\n",
       "      <th>Unnamed: 0</th>\n",
       "      <th>RecordID</th>\n",
       "      <th>Age</th>\n",
       "      <th>Gender</th>\n",
       "      <th>Height</th>\n",
       "      <th>ICUType</th>\n",
       "      <th>Weight</th>\n",
       "    </tr>\n",
       "  </thead>\n",
       "  <tbody>\n",
       "    <tr>\n",
       "      <th>1</th>\n",
       "      <td>1</td>\n",
       "      <td>148558</td>\n",
       "      <td>76</td>\n",
       "      <td>0</td>\n",
       "      <td>-1.0</td>\n",
       "      <td>3</td>\n",
       "      <td>76.3</td>\n",
       "    </tr>\n",
       "    <tr>\n",
       "      <th>3</th>\n",
       "      <td>3</td>\n",
       "      <td>142713</td>\n",
       "      <td>90</td>\n",
       "      <td>0</td>\n",
       "      <td>-1.0</td>\n",
       "      <td>4</td>\n",
       "      <td>54.1</td>\n",
       "    </tr>\n",
       "    <tr>\n",
       "      <th>9</th>\n",
       "      <td>9</td>\n",
       "      <td>150465</td>\n",
       "      <td>29</td>\n",
       "      <td>0</td>\n",
       "      <td>-1.0</td>\n",
       "      <td>4</td>\n",
       "      <td>100.0</td>\n",
       "    </tr>\n",
       "    <tr>\n",
       "      <th>10</th>\n",
       "      <td>10</td>\n",
       "      <td>151753</td>\n",
       "      <td>26</td>\n",
       "      <td>0</td>\n",
       "      <td>-1.0</td>\n",
       "      <td>3</td>\n",
       "      <td>66.0</td>\n",
       "    </tr>\n",
       "    <tr>\n",
       "      <th>13</th>\n",
       "      <td>13</td>\n",
       "      <td>144438</td>\n",
       "      <td>77</td>\n",
       "      <td>0</td>\n",
       "      <td>-1.0</td>\n",
       "      <td>1</td>\n",
       "      <td>-1.0</td>\n",
       "    </tr>\n",
       "    <tr>\n",
       "      <th>...</th>\n",
       "      <td>...</td>\n",
       "      <td>...</td>\n",
       "      <td>...</td>\n",
       "      <td>...</td>\n",
       "      <td>...</td>\n",
       "      <td>...</td>\n",
       "      <td>...</td>\n",
       "    </tr>\n",
       "    <tr>\n",
       "      <th>3995</th>\n",
       "      <td>3995</td>\n",
       "      <td>148227</td>\n",
       "      <td>83</td>\n",
       "      <td>0</td>\n",
       "      <td>-1.0</td>\n",
       "      <td>3</td>\n",
       "      <td>-1.0</td>\n",
       "    </tr>\n",
       "    <tr>\n",
       "      <th>3996</th>\n",
       "      <td>3996</td>\n",
       "      <td>150468</td>\n",
       "      <td>52</td>\n",
       "      <td>1</td>\n",
       "      <td>-1.0</td>\n",
       "      <td>4</td>\n",
       "      <td>107.0</td>\n",
       "    </tr>\n",
       "    <tr>\n",
       "      <th>3997</th>\n",
       "      <td>3997</td>\n",
       "      <td>151776</td>\n",
       "      <td>72</td>\n",
       "      <td>0</td>\n",
       "      <td>-1.0</td>\n",
       "      <td>3</td>\n",
       "      <td>-1.0</td>\n",
       "    </tr>\n",
       "    <tr>\n",
       "      <th>3998</th>\n",
       "      <td>3998</td>\n",
       "      <td>145703</td>\n",
       "      <td>77</td>\n",
       "      <td>0</td>\n",
       "      <td>-1.0</td>\n",
       "      <td>3</td>\n",
       "      <td>49.9</td>\n",
       "    </tr>\n",
       "    <tr>\n",
       "      <th>3999</th>\n",
       "      <td>3999</td>\n",
       "      <td>143372</td>\n",
       "      <td>85</td>\n",
       "      <td>0</td>\n",
       "      <td>-1.0</td>\n",
       "      <td>3</td>\n",
       "      <td>49.3</td>\n",
       "    </tr>\n",
       "  </tbody>\n",
       "</table>\n",
       "<p>1930 rows × 7 columns</p>\n",
       "</div>"
      ],
      "text/plain": [
       "      Unnamed: 0  RecordID  Age Gender  Height ICUType  Weight\n",
       "1              1    148558   76      0    -1.0       3    76.3\n",
       "3              3    142713   90      0    -1.0       4    54.1\n",
       "9              9    150465   29      0    -1.0       4   100.0\n",
       "10            10    151753   26      0    -1.0       3    66.0\n",
       "13            13    144438   77      0    -1.0       1    -1.0\n",
       "...          ...       ...  ...    ...     ...     ...     ...\n",
       "3995        3995    148227   83      0    -1.0       3    -1.0\n",
       "3996        3996    150468   52      1    -1.0       4   107.0\n",
       "3997        3997    151776   72      0    -1.0       3    -1.0\n",
       "3998        3998    145703   77      0    -1.0       3    49.9\n",
       "3999        3999    143372   85      0    -1.0       3    49.3\n",
       "\n",
       "[1930 rows x 7 columns]"
      ]
     },
     "execution_count": 12,
     "metadata": {},
     "output_type": "execute_result"
    }
   ],
   "source": [
    "static_data[static_data['Height']==-1]"
   ]
  },
  {
   "cell_type": "code",
   "execution_count": 13,
   "id": "4a2a510c",
   "metadata": {},
   "outputs": [
    {
     "data": {
      "text/plain": [
       "169.66082125603864"
      ]
     },
     "execution_count": 13,
     "metadata": {},
     "output_type": "execute_result"
    }
   ],
   "source": [
    "mean_height = static_data[static_data['Height']!=-1]['Height'].mean()\n",
    "mean_height"
   ]
  },
  {
   "cell_type": "code",
   "execution_count": 14,
   "id": "c0b5cd96",
   "metadata": {},
   "outputs": [
    {
     "data": {
      "text/html": [
       "<div>\n",
       "<style scoped>\n",
       "    .dataframe tbody tr th:only-of-type {\n",
       "        vertical-align: middle;\n",
       "    }\n",
       "\n",
       "    .dataframe tbody tr th {\n",
       "        vertical-align: top;\n",
       "    }\n",
       "\n",
       "    .dataframe thead th {\n",
       "        text-align: right;\n",
       "    }\n",
       "</style>\n",
       "<table border=\"1\" class=\"dataframe\">\n",
       "  <thead>\n",
       "    <tr style=\"text-align: right;\">\n",
       "      <th></th>\n",
       "      <th>Unnamed: 0</th>\n",
       "      <th>RecordID</th>\n",
       "      <th>Age</th>\n",
       "      <th>Gender</th>\n",
       "      <th>Height</th>\n",
       "      <th>ICUType</th>\n",
       "      <th>Weight</th>\n",
       "    </tr>\n",
       "  </thead>\n",
       "  <tbody>\n",
       "  </tbody>\n",
       "</table>\n",
       "</div>"
      ],
      "text/plain": [
       "Empty DataFrame\n",
       "Columns: [Unnamed: 0, RecordID, Age, Gender, Height, ICUType, Weight]\n",
       "Index: []"
      ]
     },
     "execution_count": 14,
     "metadata": {},
     "output_type": "execute_result"
    }
   ],
   "source": [
    "static_data.loc[static_data['Height']==-1, 'Height']=mean_height\n",
    "static_data[static_data['Height']==-1]"
   ]
  },
  {
   "cell_type": "code",
   "execution_count": 15,
   "id": "75f5ff89",
   "metadata": {},
   "outputs": [
    {
     "data": {
      "text/plain": [
       "count    4000.000000\n",
       "mean      169.660821\n",
       "std        10.053136\n",
       "min         5.100000\n",
       "25%       169.660821\n",
       "50%       169.660821\n",
       "75%       170.200000\n",
       "max       462.300000\n",
       "Name: Height, dtype: float64"
      ]
     },
     "execution_count": 15,
     "metadata": {},
     "output_type": "execute_result"
    }
   ],
   "source": [
    "static_data['Height'].describe()"
   ]
  },
  {
   "cell_type": "code",
   "execution_count": 16,
   "id": "7e2972fe",
   "metadata": {},
   "outputs": [
    {
     "data": {
      "text/plain": [
       "<AxesSubplot:ylabel='Frequency'>"
      ]
     },
     "execution_count": 16,
     "metadata": {},
     "output_type": "execute_result"
    },
    {
     "data": {
      "image/png": "[encoded data removed]",
      "text/plain": [
       "<Figure size 432x288 with 1 Axes>"
      ]
     },
     "metadata": {
      "needs_background": "light"
     },
     "output_type": "display_data"
    }
   ],
   "source": [
    "static_data['Height'].plot(kind='hist', range = (100, 250), bins=20, legend=['Height'])"
   ]
  },
  {
   "cell_type": "markdown",
   "id": "d38ac305",
   "metadata": {},
   "source": [
    "#### ICUType"
   ]
  },
  {
   "cell_type": "code",
   "execution_count": 17,
   "id": "5cbb7842",
   "metadata": {},
   "outputs": [
    {
     "data": {
      "text/plain": [
       "count     4000\n",
       "unique       4\n",
       "top          3\n",
       "freq      1436\n",
       "Name: ICUType, dtype: int64"
      ]
     },
     "execution_count": 17,
     "metadata": {},
     "output_type": "execute_result"
    }
   ],
   "source": [
    "static_data['ICUType'].describe()"
   ]
  },
  {
   "cell_type": "code",
   "execution_count": 18,
   "id": "cce0751e",
   "metadata": {},
   "outputs": [
    {
     "data": {
      "text/plain": [
       "<AxesSubplot:>"
      ]
     },
     "execution_count": 18,
     "metadata": {},
     "output_type": "execute_result"
    },
    {
     "data": {
      "image/png": "[encoded data removed]",
      "text/plain": [
       "<Figure size 432x288 with 1 Axes>"
      ]
     },
     "metadata": {
      "needs_background": "light"
     },
     "output_type": "display_data"
    }
   ],
   "source": [
    "static_data['ICUType'].value_counts().plot(kind='bar')"
   ]
  },
  {
   "cell_type": "markdown",
   "id": "d5cf6cb2",
   "metadata": {},
   "source": [
    "#### Weight"
   ]
  },
  {
   "cell_type": "code",
   "execution_count": 19,
   "id": "14ffcf2d",
   "metadata": {},
   "outputs": [
    {
     "data": {
      "text/html": [
       "<div>\n",
       "<style scoped>\n",
       "    .dataframe tbody tr th:only-of-type {\n",
       "        vertical-align: middle;\n",
       "    }\n",
       "\n",
       "    .dataframe tbody tr th {\n",
       "        vertical-align: top;\n",
       "    }\n",
       "\n",
       "    .dataframe thead th {\n",
       "        text-align: right;\n",
       "    }\n",
       "</style>\n",
       "<table border=\"1\" class=\"dataframe\">\n",
       "  <thead>\n",
       "    <tr style=\"text-align: right;\">\n",
       "      <th></th>\n",
       "      <th>Unnamed: 0</th>\n",
       "      <th>RecordID</th>\n",
       "      <th>Age</th>\n",
       "      <th>Gender</th>\n",
       "      <th>Height</th>\n",
       "      <th>ICUType</th>\n",
       "      <th>Weight</th>\n",
       "    </tr>\n",
       "  </thead>\n",
       "  <tbody>\n",
       "    <tr>\n",
       "      <th>13</th>\n",
       "      <td>13</td>\n",
       "      <td>144438</td>\n",
       "      <td>77</td>\n",
       "      <td>0</td>\n",
       "      <td>169.660821</td>\n",
       "      <td>1</td>\n",
       "      <td>-1.0</td>\n",
       "    </tr>\n",
       "    <tr>\n",
       "      <th>27</th>\n",
       "      <td>27</td>\n",
       "      <td>151784</td>\n",
       "      <td>58</td>\n",
       "      <td>1</td>\n",
       "      <td>169.660821</td>\n",
       "      <td>3</td>\n",
       "      <td>-1.0</td>\n",
       "    </tr>\n",
       "    <tr>\n",
       "      <th>28</th>\n",
       "      <td>28</td>\n",
       "      <td>144160</td>\n",
       "      <td>45</td>\n",
       "      <td>0</td>\n",
       "      <td>169.660821</td>\n",
       "      <td>3</td>\n",
       "      <td>-1.0</td>\n",
       "    </tr>\n",
       "    <tr>\n",
       "      <th>57</th>\n",
       "      <td>57</td>\n",
       "      <td>144835</td>\n",
       "      <td>77</td>\n",
       "      <td>0</td>\n",
       "      <td>169.660821</td>\n",
       "      <td>3</td>\n",
       "      <td>-1.0</td>\n",
       "    </tr>\n",
       "    <tr>\n",
       "      <th>67</th>\n",
       "      <td>67</td>\n",
       "      <td>149524</td>\n",
       "      <td>57</td>\n",
       "      <td>0</td>\n",
       "      <td>169.660821</td>\n",
       "      <td>1</td>\n",
       "      <td>-1.0</td>\n",
       "    </tr>\n",
       "    <tr>\n",
       "      <th>...</th>\n",
       "      <td>...</td>\n",
       "      <td>...</td>\n",
       "      <td>...</td>\n",
       "      <td>...</td>\n",
       "      <td>...</td>\n",
       "      <td>...</td>\n",
       "      <td>...</td>\n",
       "    </tr>\n",
       "    <tr>\n",
       "      <th>3966</th>\n",
       "      <td>3966</td>\n",
       "      <td>142939</td>\n",
       "      <td>77</td>\n",
       "      <td>0</td>\n",
       "      <td>169.660821</td>\n",
       "      <td>3</td>\n",
       "      <td>-1.0</td>\n",
       "    </tr>\n",
       "    <tr>\n",
       "      <th>3975</th>\n",
       "      <td>3975</td>\n",
       "      <td>145918</td>\n",
       "      <td>53</td>\n",
       "      <td>0</td>\n",
       "      <td>169.660821</td>\n",
       "      <td>3</td>\n",
       "      <td>-1.0</td>\n",
       "    </tr>\n",
       "    <tr>\n",
       "      <th>3990</th>\n",
       "      <td>3990</td>\n",
       "      <td>151762</td>\n",
       "      <td>57</td>\n",
       "      <td>1</td>\n",
       "      <td>169.660821</td>\n",
       "      <td>3</td>\n",
       "      <td>-1.0</td>\n",
       "    </tr>\n",
       "    <tr>\n",
       "      <th>3995</th>\n",
       "      <td>3995</td>\n",
       "      <td>148227</td>\n",
       "      <td>83</td>\n",
       "      <td>0</td>\n",
       "      <td>169.660821</td>\n",
       "      <td>3</td>\n",
       "      <td>-1.0</td>\n",
       "    </tr>\n",
       "    <tr>\n",
       "      <th>3997</th>\n",
       "      <td>3997</td>\n",
       "      <td>151776</td>\n",
       "      <td>72</td>\n",
       "      <td>0</td>\n",
       "      <td>169.660821</td>\n",
       "      <td>3</td>\n",
       "      <td>-1.0</td>\n",
       "    </tr>\n",
       "  </tbody>\n",
       "</table>\n",
       "<p>347 rows × 7 columns</p>\n",
       "</div>"
      ],
      "text/plain": [
       "      Unnamed: 0  RecordID  Age Gender      Height ICUType  Weight\n",
       "13            13    144438   77      0  169.660821       1    -1.0\n",
       "27            27    151784   58      1  169.660821       3    -1.0\n",
       "28            28    144160   45      0  169.660821       3    -1.0\n",
       "57            57    144835   77      0  169.660821       3    -1.0\n",
       "67            67    149524   57      0  169.660821       1    -1.0\n",
       "...          ...       ...  ...    ...         ...     ...     ...\n",
       "3966        3966    142939   77      0  169.660821       3    -1.0\n",
       "3975        3975    145918   53      0  169.660821       3    -1.0\n",
       "3990        3990    151762   57      1  169.660821       3    -1.0\n",
       "3995        3995    148227   83      0  169.660821       3    -1.0\n",
       "3997        3997    151776   72      0  169.660821       3    -1.0\n",
       "\n",
       "[347 rows x 7 columns]"
      ]
     },
     "execution_count": 19,
     "metadata": {},
     "output_type": "execute_result"
    }
   ],
   "source": [
    "static_data[static_data['Weight']==-1]"
   ]
  },
  {
   "cell_type": "code",
   "execution_count": 20,
   "id": "d74b1494",
   "metadata": {},
   "outputs": [
    {
     "data": {
      "text/plain": [
       "81.46442102381604"
      ]
     },
     "execution_count": 20,
     "metadata": {},
     "output_type": "execute_result"
    }
   ],
   "source": [
    "mean_weight = static_data[static_data['Weight']!=-1]['Weight'].mean()\n",
    "mean_weight"
   ]
  },
  {
   "cell_type": "code",
   "execution_count": 21,
   "id": "28de1e23",
   "metadata": {},
   "outputs": [
    {
     "data": {
      "text/html": [
       "<div>\n",
       "<style scoped>\n",
       "    .dataframe tbody tr th:only-of-type {\n",
       "        vertical-align: middle;\n",
       "    }\n",
       "\n",
       "    .dataframe tbody tr th {\n",
       "        vertical-align: top;\n",
       "    }\n",
       "\n",
       "    .dataframe thead th {\n",
       "        text-align: right;\n",
       "    }\n",
       "</style>\n",
       "<table border=\"1\" class=\"dataframe\">\n",
       "  <thead>\n",
       "    <tr style=\"text-align: right;\">\n",
       "      <th></th>\n",
       "      <th>Unnamed: 0</th>\n",
       "      <th>RecordID</th>\n",
       "      <th>Age</th>\n",
       "      <th>Gender</th>\n",
       "      <th>Height</th>\n",
       "      <th>ICUType</th>\n",
       "      <th>Weight</th>\n",
       "    </tr>\n",
       "  </thead>\n",
       "  <tbody>\n",
       "  </tbody>\n",
       "</table>\n",
       "</div>"
      ],
      "text/plain": [
       "Empty DataFrame\n",
       "Columns: [Unnamed: 0, RecordID, Age, Gender, Height, ICUType, Weight]\n",
       "Index: []"
      ]
     },
     "execution_count": 21,
     "metadata": {},
     "output_type": "execute_result"
    }
   ],
   "source": [
    "static_data.loc[static_data['Weight']==-1, 'Weight']=mean_weight\n",
    "static_data[static_data['Weight']==-1]"
   ]
  },
  {
   "cell_type": "code",
   "execution_count": 22,
   "id": "e18be9fd",
   "metadata": {},
   "outputs": [
    {
     "data": {
      "text/plain": [
       "count    4000.000000\n",
       "mean       81.464421\n",
       "std        23.227770\n",
       "min        30.000000\n",
       "25%        67.000000\n",
       "50%        80.000000\n",
       "75%        90.000000\n",
       "max       472.000000\n",
       "Name: Weight, dtype: float64"
      ]
     },
     "execution_count": 22,
     "metadata": {},
     "output_type": "execute_result"
    }
   ],
   "source": [
    "static_data['Weight'].describe()"
   ]
  },
  {
   "cell_type": "code",
   "execution_count": 23,
   "id": "6d47873f",
   "metadata": {},
   "outputs": [
    {
     "data": {
      "text/plain": [
       "<AxesSubplot:ylabel='Frequency'>"
      ]
     },
     "execution_count": 23,
     "metadata": {},
     "output_type": "execute_result"
    },
    {
     "data": {
      "image/png": "[encoded data removed]",
      "text/plain": [
       "<Figure size 432x288 with 1 Axes>"
      ]
     },
     "metadata": {
      "needs_background": "light"
     },
     "output_type": "display_data"
    }
   ],
   "source": [
    "static_data['Weight'].plot(kind='hist', range = (20, 250), bins=20, legend=['Weight'])"
   ]
  },
  {
   "cell_type": "code",
   "execution_count": null,
   "id": "5514ddb5",
   "metadata": {},
   "outputs": [],
   "source": []
  },
  {
   "cell_type": "code",
   "execution_count": null,
   "id": "ee37ed90",
   "metadata": {},
   "outputs": [],
   "source": []
  },
  {
   "cell_type": "markdown",
   "id": "c93f4044",
   "metadata": {},
   "source": [
    "### Dynamic Data"
   ]
  },
  {
   "cell_type": "code",
   "execution_count": 24,
   "id": "7ea9f063",
   "metadata": {},
   "outputs": [
    {
     "data": {
      "text/html": [
       "<div>\n",
       "<style scoped>\n",
       "    .dataframe tbody tr th:only-of-type {\n",
       "        vertical-align: middle;\n",
       "    }\n",
       "\n",
       "    .dataframe tbody tr th {\n",
       "        vertical-align: top;\n",
       "    }\n",
       "\n",
       "    .dataframe thead th {\n",
       "        text-align: right;\n",
       "    }\n",
       "</style>\n",
       "<table border=\"1\" class=\"dataframe\">\n",
       "  <thead>\n",
       "    <tr style=\"text-align: right;\">\n",
       "      <th></th>\n",
       "      <th>Unnamed: 0</th>\n",
       "      <th>time</th>\n",
       "      <th>parameter</th>\n",
       "      <th>value</th>\n",
       "      <th>RecordID</th>\n",
       "    </tr>\n",
       "  </thead>\n",
       "  <tbody>\n",
       "    <tr>\n",
       "      <th>0</th>\n",
       "      <td>0</td>\n",
       "      <td>4</td>\n",
       "      <td>DiasABP</td>\n",
       "      <td>60.0</td>\n",
       "      <td>144404</td>\n",
       "    </tr>\n",
       "    <tr>\n",
       "      <th>1</th>\n",
       "      <td>1</td>\n",
       "      <td>4</td>\n",
       "      <td>GCS</td>\n",
       "      <td>11.0</td>\n",
       "      <td>144404</td>\n",
       "    </tr>\n",
       "    <tr>\n",
       "      <th>2</th>\n",
       "      <td>2</td>\n",
       "      <td>4</td>\n",
       "      <td>HR</td>\n",
       "      <td>85.0</td>\n",
       "      <td>144404</td>\n",
       "    </tr>\n",
       "    <tr>\n",
       "      <th>3</th>\n",
       "      <td>3</td>\n",
       "      <td>4</td>\n",
       "      <td>MAP</td>\n",
       "      <td>90.0</td>\n",
       "      <td>144404</td>\n",
       "    </tr>\n",
       "    <tr>\n",
       "      <th>4</th>\n",
       "      <td>4</td>\n",
       "      <td>4</td>\n",
       "      <td>NIDiasABP</td>\n",
       "      <td>68.0</td>\n",
       "      <td>144404</td>\n",
       "    </tr>\n",
       "  </tbody>\n",
       "</table>\n",
       "</div>"
      ],
      "text/plain": [
       "   Unnamed: 0  time  parameter  value  RecordID\n",
       "0           0     4    DiasABP   60.0    144404\n",
       "1           1     4        GCS   11.0    144404\n",
       "2           2     4         HR   85.0    144404\n",
       "3           3     4        MAP   90.0    144404\n",
       "4           4     4  NIDiasABP   68.0    144404"
      ]
     },
     "execution_count": 24,
     "metadata": {},
     "output_type": "execute_result"
    }
   ],
   "source": [
    "dynamic_data.head()"
   ]
  },
  {
   "cell_type": "code",
   "execution_count": 25,
   "id": "3e484feb",
   "metadata": {},
   "outputs": [
    {
     "name": "stdout",
     "output_type": "stream",
     "text": [
      "<class 'pandas.core.frame.DataFrame'>\n",
      "RangeIndex: 1738534 entries, 0 to 1738533\n",
      "Data columns (total 5 columns):\n",
      " #   Column      Dtype  \n",
      "---  ------      -----  \n",
      " 0   Unnamed: 0  int64  \n",
      " 1   time        int64  \n",
      " 2   parameter   object \n",
      " 3   value       float64\n",
      " 4   RecordID    int64  \n",
      "dtypes: float64(1), int64(3), object(1)\n",
      "memory usage: 66.3+ MB\n"
     ]
    }
   ],
   "source": [
    "dynamic_data.info()"
   ]
  },
  {
   "cell_type": "code",
   "execution_count": 26,
   "id": "4ad72e2f",
   "metadata": {},
   "outputs": [
    {
     "data": {
      "text/html": [
       "<div>\n",
       "<style scoped>\n",
       "    .dataframe tbody tr th:only-of-type {\n",
       "        vertical-align: middle;\n",
       "    }\n",
       "\n",
       "    .dataframe tbody tr th {\n",
       "        vertical-align: top;\n",
       "    }\n",
       "\n",
       "    .dataframe thead th {\n",
       "        text-align: right;\n",
       "    }\n",
       "</style>\n",
       "<table border=\"1\" class=\"dataframe\">\n",
       "  <thead>\n",
       "    <tr style=\"text-align: right;\">\n",
       "      <th></th>\n",
       "      <th>Unnamed: 0</th>\n",
       "      <th>time</th>\n",
       "      <th>value</th>\n",
       "      <th>RecordID</th>\n",
       "    </tr>\n",
       "  </thead>\n",
       "  <tbody>\n",
       "    <tr>\n",
       "      <th>count</th>\n",
       "      <td>1.738534e+06</td>\n",
       "      <td>1.738534e+06</td>\n",
       "      <td>1.738534e+06</td>\n",
       "      <td>1.738534e+06</td>\n",
       "    </tr>\n",
       "    <tr>\n",
       "      <th>mean</th>\n",
       "      <td>8.692665e+05</td>\n",
       "      <td>1.342517e+03</td>\n",
       "      <td>7.564438e+01</td>\n",
       "      <td>1.477451e+05</td>\n",
       "    </tr>\n",
       "    <tr>\n",
       "      <th>std</th>\n",
       "      <td>5.018717e+05</td>\n",
       "      <td>8.403144e+02</td>\n",
       "      <td>1.009252e+02</td>\n",
       "      <td>2.953503e+03</td>\n",
       "    </tr>\n",
       "    <tr>\n",
       "      <th>min</th>\n",
       "      <td>0.000000e+00</td>\n",
       "      <td>0.000000e+00</td>\n",
       "      <td>-1.780000e+01</td>\n",
       "      <td>1.426750e+05</td>\n",
       "    </tr>\n",
       "    <tr>\n",
       "      <th>25%</th>\n",
       "      <td>4.346332e+05</td>\n",
       "      <td>5.880000e+02</td>\n",
       "      <td>3.760000e+01</td>\n",
       "      <td>1.451430e+05</td>\n",
       "    </tr>\n",
       "    <tr>\n",
       "      <th>50%</th>\n",
       "      <td>8.692665e+05</td>\n",
       "      <td>1.297000e+03</td>\n",
       "      <td>7.100000e+01</td>\n",
       "      <td>1.477680e+05</td>\n",
       "    </tr>\n",
       "    <tr>\n",
       "      <th>75%</th>\n",
       "      <td>1.303900e+06</td>\n",
       "      <td>2.065000e+03</td>\n",
       "      <td>9.800000e+01</td>\n",
       "      <td>1.502900e+05</td>\n",
       "    </tr>\n",
       "    <tr>\n",
       "      <th>max</th>\n",
       "      <td>1.738533e+06</td>\n",
       "      <td>2.880000e+03</td>\n",
       "      <td>1.999000e+04</td>\n",
       "      <td>1.528640e+05</td>\n",
       "    </tr>\n",
       "  </tbody>\n",
       "</table>\n",
       "</div>"
      ],
      "text/plain": [
       "         Unnamed: 0          time         value      RecordID\n",
       "count  1.738534e+06  1.738534e+06  1.738534e+06  1.738534e+06\n",
       "mean   8.692665e+05  1.342517e+03  7.564438e+01  1.477451e+05\n",
       "std    5.018717e+05  8.403144e+02  1.009252e+02  2.953503e+03\n",
       "min    0.000000e+00  0.000000e+00 -1.780000e+01  1.426750e+05\n",
       "25%    4.346332e+05  5.880000e+02  3.760000e+01  1.451430e+05\n",
       "50%    8.692665e+05  1.297000e+03  7.100000e+01  1.477680e+05\n",
       "75%    1.303900e+06  2.065000e+03  9.800000e+01  1.502900e+05\n",
       "max    1.738533e+06  2.880000e+03  1.999000e+04  1.528640e+05"
      ]
     },
     "execution_count": 26,
     "metadata": {},
     "output_type": "execute_result"
    }
   ],
   "source": [
    "dynamic_data.describe()"
   ]
  },
  {
   "cell_type": "code",
   "execution_count": 27,
   "id": "b7bab009",
   "metadata": {},
   "outputs": [
    {
     "data": {
      "text/plain": [
       "array(['DiasABP', 'GCS', 'HR', 'MAP', 'NIDiasABP', 'NIMAP', 'NISysABP',\n",
       "       'SysABP', 'Temp', 'Urine', 'Weight', 'FiO2', 'MechVent', 'pH',\n",
       "       'PaCO2', 'PaO2', 'SaO2', 'Albumin', 'ALP', 'ALT', 'AST',\n",
       "       'Bilirubin', 'BUN', 'Creatinine', 'Glucose', 'HCO3', 'HCT', 'Mg',\n",
       "       'Platelets', 'K', 'Na', 'WBC', 'Lactate', 'Cholesterol',\n",
       "       'RespRate', 'TroponinT', 'TroponinI'], dtype=object)"
      ]
     },
     "execution_count": 27,
     "metadata": {},
     "output_type": "execute_result"
    }
   ],
   "source": [
    "parameter = dynamic_data['parameter'].unique()\n",
    "parameter"
   ]
  },
  {
   "cell_type": "code",
   "execution_count": 28,
   "id": "5f1f4af4",
   "metadata": {
    "scrolled": true
   },
   "outputs": [
    {
     "data": {
      "image/png": "[encoded data removed]",
      "text/plain": [
       "<Figure size 432x288 with 1 Axes>"
      ]
     },
     "metadata": {
      "needs_background": "light"
     },
     "output_type": "display_data"
    },
    {
     "data": {
      "image/png": "[encoded data removed]",
      "text/plain": [
       "<Figure size 432x288 with 1 Axes>"
      ]
     },
     "metadata": {
      "needs_background": "light"
     },
     "output_type": "display_data"
    },
    {
     "data": {
      "image/png": "[encoded data removed]",
      "text/plain": [
       "<Figure size 432x288 with 1 Axes>"
      ]
     },
     "metadata": {
      "needs_background": "light"
     },
     "output_type": "display_data"
    },
    {
     "data": {
      "image/png": "[encoded data removed]",
      "text/plain": [
       "<Figure size 432x288 with 1 Axes>"
      ]
     },
     "metadata": {
      "needs_background": "light"
     },
     "output_type": "display_data"
    },
    {
     "data": {
      "image/png": "[encoded data removed]",
      "text/plain": [
       "<Figure size 432x288 with 1 Axes>"
      ]
     },
     "metadata": {
      "needs_background": "light"
     },
     "output_type": "display_data"
    },
    {
     "data": {
      "image/png": "[encoded data removed]",
      "text/plain": [
       "<Figure size 432x288 with 1 Axes>"
      ]
     },
     "metadata": {
      "needs_background": "light"
     },
     "output_type": "display_data"
    },
    {
     "data": {
      "image/png": "[encoded data removed]",
      "text/plain": [
       "<Figure size 432x288 with 1 Axes>"
      ]
     },
     "metadata": {
      "needs_background": "light"
     },
     "output_type": "display_data"
    },
    {
     "data": {
      "image/png": "[encoded data removed]",
      "text/plain": [
       "<Figure size 432x288 with 1 Axes>"
      ]
     },
     "metadata": {
      "needs_background": "light"
     },
     "output_type": "display_data"
    },
    {
     "data": {
      "image/png": "[encoded data removed]",
      "text/plain": [
       "<Figure size 432x288 with 1 Axes>"
      ]
     },
     "metadata": {
      "needs_background": "light"
     },
     "output_type": "display_data"
    },
    {
     "data": {
      "image/png": "[encoded data removed]",
      "text/plain": [
       "<Figure size 432x288 with 1 Axes>"
      ]
     },
     "metadata": {
      "needs_background": "light"
     },
     "output_type": "display_data"
    },
    {
     "data": {
      "image/png": "[encoded data removed]",
      "text/plain": [
       "<Figure size 432x288 with 1 Axes>"
      ]
     },
     "metadata": {
      "needs_background": "light"
     },
     "output_type": "display_data"
    },
    {
     "data": {
      "image/png": "[encoded data removed]",
      "text/plain": [
       "<Figure size 432x288 with 1 Axes>"
      ]
     },
     "metadata": {
      "needs_background": "light"
     },
     "output_type": "display_data"
    },
    {
     "data": {
      "image/png": "[encoded data removed]",
      "text/plain": [
       "<Figure size 432x288 with 1 Axes>"
      ]
     },
     "metadata": {
      "needs_background": "light"
     },
     "output_type": "display_data"
    },
    {
     "data": {
      "image/png": "[encoded data removed]",
      "text/plain": [
       "<Figure size 432x288 with 1 Axes>"
      ]
     },
     "metadata": {
      "needs_background": "light"
     },
     "output_type": "display_data"
    },
    {
     "data": {
      "image/png": "[encoded data removed]",
      "text/plain": [
       "<Figure size 432x288 with 1 Axes>"
      ]
     },
     "metadata": {
      "needs_background": "light"
     },
     "output_type": "display_data"
    },
    {
     "data": {
      "image/png": "[encoded data removed]",
      "text/plain": [
       "<Figure size 432x288 with 1 Axes>"
      ]
     },
     "metadata": {
      "needs_background": "light"
     },
     "output_type": "display_data"
    },
    {
     "data": {
      "image/png": "[encoded data removed]",
      "text/plain": [
       "<Figure size 432x288 with 1 Axes>"
      ]
     },
     "metadata": {
      "needs_background": "light"
     },
     "output_type": "display_data"
    },
    {
     "data": {
      "image/png": "[encoded data removed]",
      "text/plain": [
       "<Figure size 432x288 with 1 Axes>"
      ]
     },
     "metadata": {
      "needs_background": "light"
     },
     "output_type": "display_data"
    },
    {
     "data": {
      "image/png": "[encoded data removed]",
      "text/plain": [
       "<Figure size 432x288 with 1 Axes>"
      ]
     },
     "metadata": {
      "needs_background": "light"
     },
     "output_type": "display_data"
    },
    {
     "data": {
      "image/png": "[encoded data removed]",
      "text/plain": [
       "<Figure size 432x288 with 1 Axes>"
      ]
     },
     "metadata": {
      "needs_background": "light"
     },
     "output_type": "display_data"
    },
    {
     "data": {
      "image/png": "[encoded data removed]",
      "text/plain": [
       "<Figure size 432x288 with 1 Axes>"
      ]
     },
     "metadata": {
      "needs_background": "light"
     },
     "output_type": "display_data"
    },
    {
     "data": {
      "image/png": "[encoded data removed]",
      "text/plain": [
       "<Figure size 432x288 with 1 Axes>"
      ]
     },
     "metadata": {
      "needs_background": "light"
     },
     "output_type": "display_data"
    },
    {
     "data": {
      "image/png": "[encoded data removed]",
      "text/plain": [
       "<Figure size 432x288 with 1 Axes>"
      ]
     },
     "metadata": {
      "needs_background": "light"
     },
     "output_type": "display_data"
    },
    {
     "data": {
      "image/png": "[encoded data removed]",
      "text/plain": [
       "<Figure size 432x288 with 1 Axes>"
      ]
     },
     "metadata": {
      "needs_background": "light"
     },
     "output_type": "display_data"
    },
    {
     "data": {
      "image/png": "[encoded data removed]",
      "text/plain": [
       "<Figure size 432x288 with 1 Axes>"
      ]
     },
     "metadata": {
      "needs_background": "light"
     },
     "output_type": "display_data"
    },
    {
     "data": {
      "image/png": "[encoded data removed]",
      "text/plain": [
       "<Figure size 432x288 with 1 Axes>"
      ]
     },
     "metadata": {
      "needs_background": "light"
     },
     "output_type": "display_data"
    },
    {
     "data": {
      "image/png": "[encoded data removed]",
      "text/plain": [
       "<Figure size 432x288 with 1 Axes>"
      ]
     },
     "metadata": {
      "needs_background": "light"
     },
     "output_type": "display_data"
    },
    {
     "data": {
      "image/png": "[encoded data removed]",
      "text/plain": [
       "<Figure size 432x288 with 1 Axes>"
      ]
     },
     "metadata": {
      "needs_background": "light"
     },
     "output_type": "display_data"
    },
    {
     "data": {
      "image/png": "[encoded data removed]",
      "text/plain": [
       "<Figure size 432x288 with 1 Axes>"
      ]
     },
     "metadata": {
      "needs_background": "light"
     },
     "output_type": "display_data"
    },
    {
     "data": {
      "image/png": "[encoded data removed]",
      "text/plain": [
       "<Figure size 432x288 with 1 Axes>"
      ]
     },
     "metadata": {
      "needs_background": "light"
     },
     "output_type": "display_data"
    },
    {
     "data": {
      "image/png": "[encoded data removed]",
      "text/plain": [
       "<Figure size 432x288 with 1 Axes>"
      ]
     },
     "metadata": {
      "needs_background": "light"
     },
     "output_type": "display_data"
    },
    {
     "data": {
      "image/png": "[encoded data removed]",
      "text/plain": [
       "<Figure size 432x288 with 1 Axes>"
      ]
     },
     "metadata": {
      "needs_background": "light"
     },
     "output_type": "display_data"
    },
    {
     "data": {
      "image/png": "[encoded data removed]",
      "text/plain": [
       "<Figure size 432x288 with 1 Axes>"
      ]
     },
     "metadata": {
      "needs_background": "light"
     },
     "output_type": "display_data"
    },
    {
     "data": {
      "image/png": "[encoded data removed]",
      "text/plain": [
       "<Figure size 432x288 with 1 Axes>"
      ]
     },
     "metadata": {
      "needs_background": "light"
     },
     "output_type": "display_data"
    },
    {
     "data": {
      "image/png": "[encoded data removed]",
      "text/plain": [
       "<Figure size 432x288 with 1 Axes>"
      ]
     },
     "metadata": {
      "needs_background": "light"
     },
     "output_type": "display_data"
    },
    {
     "data": {
      "image/png": "[encoded data removed]",
      "text/plain": [
       "<Figure size 432x288 with 1 Axes>"
      ]
     },
     "metadata": {
      "needs_background": "light"
     },
     "output_type": "display_data"
    },
    {
     "data": {
      "image/png": "[encoded data removed]",
      "text/plain": [
       "<Figure size 432x288 with 1 Axes>"
      ]
     },
     "metadata": {
      "needs_background": "light"
     },
     "output_type": "display_data"
    }
   ],
   "source": [
    "#static_data['Weight'].plot(kind='hist', range = (20, 250), bins=20, legend=['Weight'])\n",
    "for p in parameter:\n",
    "    dynamic_data[dynamic_data['parameter']==p]['value'].plot(kind='hist', title=p)\n",
    "    plt.show()"
   ]
  },
  {
   "cell_type": "code",
   "execution_count": null,
   "id": "f3670302",
   "metadata": {},
   "outputs": [],
   "source": []
  },
  {
   "cell_type": "code",
   "execution_count": null,
   "id": "e4df7831",
   "metadata": {},
   "outputs": [],
   "source": []
  },
  {
   "cell_type": "code",
   "execution_count": null,
   "id": "e4d8c45b",
   "metadata": {},
   "outputs": [],
   "source": []
  },
  {
   "cell_type": "code",
   "execution_count": null,
   "id": "8c41cf30",
   "metadata": {},
   "outputs": [],
   "source": []
  },
  {
   "cell_type": "markdown",
   "id": "843b806f",
   "metadata": {},
   "source": [
    "### Outcomes"
   ]
  },
  {
   "cell_type": "code",
   "execution_count": 29,
   "id": "457a604b",
   "metadata": {},
   "outputs": [
    {
     "data": {
      "text/html": [
       "<div>\n",
       "<style scoped>\n",
       "    .dataframe tbody tr th:only-of-type {\n",
       "        vertical-align: middle;\n",
       "    }\n",
       "\n",
       "    .dataframe tbody tr th {\n",
       "        vertical-align: top;\n",
       "    }\n",
       "\n",
       "    .dataframe thead th {\n",
       "        text-align: right;\n",
       "    }\n",
       "</style>\n",
       "<table border=\"1\" class=\"dataframe\">\n",
       "  <thead>\n",
       "    <tr style=\"text-align: right;\">\n",
       "      <th></th>\n",
       "      <th>RecordID</th>\n",
       "      <th>SAPS-I</th>\n",
       "      <th>SOFA</th>\n",
       "      <th>Length_of_stay</th>\n",
       "      <th>Survival</th>\n",
       "      <th>In-hospital_death</th>\n",
       "    </tr>\n",
       "  </thead>\n",
       "  <tbody>\n",
       "    <tr>\n",
       "      <th>0</th>\n",
       "      <td>142675</td>\n",
       "      <td>27</td>\n",
       "      <td>14</td>\n",
       "      <td>9</td>\n",
       "      <td>7</td>\n",
       "      <td>1</td>\n",
       "    </tr>\n",
       "    <tr>\n",
       "      <th>1</th>\n",
       "      <td>142676</td>\n",
       "      <td>12</td>\n",
       "      <td>1</td>\n",
       "      <td>31</td>\n",
       "      <td>468</td>\n",
       "      <td>0</td>\n",
       "    </tr>\n",
       "    <tr>\n",
       "      <th>2</th>\n",
       "      <td>142680</td>\n",
       "      <td>12</td>\n",
       "      <td>7</td>\n",
       "      <td>17</td>\n",
       "      <td>16</td>\n",
       "      <td>1</td>\n",
       "    </tr>\n",
       "    <tr>\n",
       "      <th>3</th>\n",
       "      <td>142683</td>\n",
       "      <td>19</td>\n",
       "      <td>15</td>\n",
       "      <td>17</td>\n",
       "      <td>-1</td>\n",
       "      <td>0</td>\n",
       "    </tr>\n",
       "    <tr>\n",
       "      <th>4</th>\n",
       "      <td>142688</td>\n",
       "      <td>3</td>\n",
       "      <td>0</td>\n",
       "      <td>9</td>\n",
       "      <td>-1</td>\n",
       "      <td>0</td>\n",
       "    </tr>\n",
       "  </tbody>\n",
       "</table>\n",
       "</div>"
      ],
      "text/plain": [
       "   RecordID  SAPS-I  SOFA  Length_of_stay  Survival  In-hospital_death\n",
       "0    142675      27    14               9         7                  1\n",
       "1    142676      12     1              31       468                  0\n",
       "2    142680      12     7              17        16                  1\n",
       "3    142683      19    15              17        -1                  0\n",
       "4    142688       3     0               9        -1                  0"
      ]
     },
     "execution_count": 29,
     "metadata": {},
     "output_type": "execute_result"
    }
   ],
   "source": [
    "outcomes.head()"
   ]
  },
  {
   "cell_type": "code",
   "execution_count": 30,
   "id": "8caf21c4",
   "metadata": {},
   "outputs": [
    {
     "name": "stdout",
     "output_type": "stream",
     "text": [
      "<class 'pandas.core.frame.DataFrame'>\n",
      "RangeIndex: 4000 entries, 0 to 3999\n",
      "Data columns (total 6 columns):\n",
      " #   Column             Non-Null Count  Dtype\n",
      "---  ------             --------------  -----\n",
      " 0   RecordID           4000 non-null   int64\n",
      " 1   SAPS-I             4000 non-null   int64\n",
      " 2   SOFA               4000 non-null   int64\n",
      " 3   Length_of_stay     4000 non-null   int64\n",
      " 4   Survival           4000 non-null   int64\n",
      " 5   In-hospital_death  4000 non-null   int64\n",
      "dtypes: int64(6)\n",
      "memory usage: 187.6 KB\n"
     ]
    }
   ],
   "source": [
    "outcomes.info()"
   ]
  },
  {
   "cell_type": "code",
   "execution_count": 31,
   "id": "ea273c4d",
   "metadata": {},
   "outputs": [
    {
     "data": {
      "text/html": [
       "<div>\n",
       "<style scoped>\n",
       "    .dataframe tbody tr th:only-of-type {\n",
       "        vertical-align: middle;\n",
       "    }\n",
       "\n",
       "    .dataframe tbody tr th {\n",
       "        vertical-align: top;\n",
       "    }\n",
       "\n",
       "    .dataframe thead th {\n",
       "        text-align: right;\n",
       "    }\n",
       "</style>\n",
       "<table border=\"1\" class=\"dataframe\">\n",
       "  <thead>\n",
       "    <tr style=\"text-align: right;\">\n",
       "      <th></th>\n",
       "      <th>RecordID</th>\n",
       "      <th>SAPS-I</th>\n",
       "      <th>SOFA</th>\n",
       "      <th>Length_of_stay</th>\n",
       "      <th>Survival</th>\n",
       "      <th>In-hospital_death</th>\n",
       "    </tr>\n",
       "  </thead>\n",
       "  <tbody>\n",
       "    <tr>\n",
       "      <th>count</th>\n",
       "      <td>4000.000000</td>\n",
       "      <td>4000.000000</td>\n",
       "      <td>4000.000000</td>\n",
       "      <td>4000.000000</td>\n",
       "      <td>4000.000000</td>\n",
       "      <td>4000.000000</td>\n",
       "    </tr>\n",
       "    <tr>\n",
       "      <th>mean</th>\n",
       "      <td>147740.094750</td>\n",
       "      <td>14.284000</td>\n",
       "      <td>6.326750</td>\n",
       "      <td>13.728000</td>\n",
       "      <td>132.118250</td>\n",
       "      <td>0.142000</td>\n",
       "    </tr>\n",
       "    <tr>\n",
       "      <th>std</th>\n",
       "      <td>2949.498256</td>\n",
       "      <td>6.001237</td>\n",
       "      <td>4.273061</td>\n",
       "      <td>13.168822</td>\n",
       "      <td>365.852642</td>\n",
       "      <td>0.349094</td>\n",
       "    </tr>\n",
       "    <tr>\n",
       "      <th>min</th>\n",
       "      <td>142675.000000</td>\n",
       "      <td>-1.000000</td>\n",
       "      <td>-1.000000</td>\n",
       "      <td>-1.000000</td>\n",
       "      <td>-23.000000</td>\n",
       "      <td>0.000000</td>\n",
       "    </tr>\n",
       "    <tr>\n",
       "      <th>25%</th>\n",
       "      <td>145157.250000</td>\n",
       "      <td>11.000000</td>\n",
       "      <td>3.000000</td>\n",
       "      <td>6.000000</td>\n",
       "      <td>-1.000000</td>\n",
       "      <td>0.000000</td>\n",
       "    </tr>\n",
       "    <tr>\n",
       "      <th>50%</th>\n",
       "      <td>147739.000000</td>\n",
       "      <td>15.000000</td>\n",
       "      <td>6.000000</td>\n",
       "      <td>10.000000</td>\n",
       "      <td>-1.000000</td>\n",
       "      <td>0.000000</td>\n",
       "    </tr>\n",
       "    <tr>\n",
       "      <th>75%</th>\n",
       "      <td>150285.500000</td>\n",
       "      <td>18.000000</td>\n",
       "      <td>9.000000</td>\n",
       "      <td>17.000000</td>\n",
       "      <td>19.000000</td>\n",
       "      <td>0.000000</td>\n",
       "    </tr>\n",
       "    <tr>\n",
       "      <th>max</th>\n",
       "      <td>152864.000000</td>\n",
       "      <td>33.000000</td>\n",
       "      <td>22.000000</td>\n",
       "      <td>171.000000</td>\n",
       "      <td>2620.000000</td>\n",
       "      <td>1.000000</td>\n",
       "    </tr>\n",
       "  </tbody>\n",
       "</table>\n",
       "</div>"
      ],
      "text/plain": [
       "            RecordID       SAPS-I         SOFA  Length_of_stay     Survival  \\\n",
       "count    4000.000000  4000.000000  4000.000000     4000.000000  4000.000000   \n",
       "mean   147740.094750    14.284000     6.326750       13.728000   132.118250   \n",
       "std      2949.498256     6.001237     4.273061       13.168822   365.852642   \n",
       "min    142675.000000    -1.000000    -1.000000       -1.000000   -23.000000   \n",
       "25%    145157.250000    11.000000     3.000000        6.000000    -1.000000   \n",
       "50%    147739.000000    15.000000     6.000000       10.000000    -1.000000   \n",
       "75%    150285.500000    18.000000     9.000000       17.000000    19.000000   \n",
       "max    152864.000000    33.000000    22.000000      171.000000  2620.000000   \n",
       "\n",
       "       In-hospital_death  \n",
       "count        4000.000000  \n",
       "mean            0.142000  \n",
       "std             0.349094  \n",
       "min             0.000000  \n",
       "25%             0.000000  \n",
       "50%             0.000000  \n",
       "75%             0.000000  \n",
       "max             1.000000  "
      ]
     },
     "execution_count": 31,
     "metadata": {},
     "output_type": "execute_result"
    }
   ],
   "source": [
    "outcomes.describe()"
   ]
  },
  {
   "cell_type": "code",
   "execution_count": 32,
   "id": "f2094b0a",
   "metadata": {},
   "outputs": [
    {
     "data": {
      "text/plain": [
       "<AxesSubplot:title={'center':'Length of stay'}, ylabel='Frequency'>"
      ]
     },
     "execution_count": 32,
     "metadata": {},
     "output_type": "execute_result"
    },
    {
     "data": {
      "image/png": "[encoded data removed]",
      "text/plain": [
       "<Figure size 432x288 with 1 Axes>"
      ]
     },
     "metadata": {
      "needs_background": "light"
     },
     "output_type": "display_data"
    }
   ],
   "source": [
    "outcomes['Length_of_stay'].value_counts().plot(kind='hist', bins=25, title='Length of stay')"
   ]
  },
  {
   "cell_type": "code",
   "execution_count": null,
   "id": "e8c3a928",
   "metadata": {},
   "outputs": [],
   "source": []
  },
  {
   "cell_type": "markdown",
   "id": "6510d55b",
   "metadata": {},
   "source": [
    "## Forming the dataset\n",
    "\n",
    "Assuming time is provided in hours"
   ]
  },
  {
   "cell_type": "code",
   "execution_count": 33,
   "id": "8e23e322",
   "metadata": {},
   "outputs": [
    {
     "data": {
      "text/plain": [
       "(0, 2880)"
      ]
     },
     "execution_count": 33,
     "metadata": {},
     "output_type": "execute_result"
    }
   ],
   "source": [
    "dynamic_data['time'].min(), dynamic_data['time'].max()"
   ]
  },
  {
   "cell_type": "code",
   "execution_count": 60,
   "id": "b29ae304",
   "metadata": {},
   "outputs": [
    {
     "data": {
      "text/html": [
       "<div>\n",
       "<style scoped>\n",
       "    .dataframe tbody tr th:only-of-type {\n",
       "        vertical-align: middle;\n",
       "    }\n",
       "\n",
       "    .dataframe tbody tr th {\n",
       "        vertical-align: top;\n",
       "    }\n",
       "\n",
       "    .dataframe thead th {\n",
       "        text-align: right;\n",
       "    }\n",
       "</style>\n",
       "<table border=\"1\" class=\"dataframe\">\n",
       "  <thead>\n",
       "    <tr style=\"text-align: right;\">\n",
       "      <th></th>\n",
       "      <th>Unnamed: 0</th>\n",
       "      <th>time</th>\n",
       "      <th>parameter</th>\n",
       "      <th>value</th>\n",
       "      <th>RecordID</th>\n",
       "    </tr>\n",
       "  </thead>\n",
       "  <tbody>\n",
       "    <tr>\n",
       "      <th>0</th>\n",
       "      <td>0</td>\n",
       "      <td>4</td>\n",
       "      <td>DiasABP</td>\n",
       "      <td>60.0</td>\n",
       "      <td>144404</td>\n",
       "    </tr>\n",
       "    <tr>\n",
       "      <th>1</th>\n",
       "      <td>1</td>\n",
       "      <td>4</td>\n",
       "      <td>GCS</td>\n",
       "      <td>11.0</td>\n",
       "      <td>144404</td>\n",
       "    </tr>\n",
       "    <tr>\n",
       "      <th>2</th>\n",
       "      <td>2</td>\n",
       "      <td>4</td>\n",
       "      <td>HR</td>\n",
       "      <td>85.0</td>\n",
       "      <td>144404</td>\n",
       "    </tr>\n",
       "    <tr>\n",
       "      <th>3</th>\n",
       "      <td>3</td>\n",
       "      <td>4</td>\n",
       "      <td>MAP</td>\n",
       "      <td>90.0</td>\n",
       "      <td>144404</td>\n",
       "    </tr>\n",
       "    <tr>\n",
       "      <th>4</th>\n",
       "      <td>4</td>\n",
       "      <td>4</td>\n",
       "      <td>NIDiasABP</td>\n",
       "      <td>68.0</td>\n",
       "      <td>144404</td>\n",
       "    </tr>\n",
       "  </tbody>\n",
       "</table>\n",
       "</div>"
      ],
      "text/plain": [
       "   Unnamed: 0  time  parameter  value  RecordID\n",
       "0           0     4    DiasABP   60.0    144404\n",
       "1           1     4        GCS   11.0    144404\n",
       "2           2     4         HR   85.0    144404\n",
       "3           3     4        MAP   90.0    144404\n",
       "4           4     4  NIDiasABP   68.0    144404"
      ]
     },
     "execution_count": 60,
     "metadata": {},
     "output_type": "execute_result"
    }
   ],
   "source": [
    "dynamic_data.head()"
   ]
  },
  {
   "cell_type": "code",
   "execution_count": 68,
   "id": "c9fb8d32",
   "metadata": {},
   "outputs": [],
   "source": [
    "df = pd.merge(static_data, outcomes, on=['RecordID'])\n",
    "df = df[df['Length_of_stay']>1]\n",
    "df2 = pd.merge(dynamic_data, df, on=['RecordID'], how='inner')\n",
    "drop_cols = ['Unnamed: 0_x', 'Unnamed: 0_y', 'SAPS-I', 'SOFA', 'Survival', 'In-hospital_death']\n",
    "df2 = df2.drop(drop_cols, axis='columns')"
   ]
  },
  {
   "cell_type": "code",
   "execution_count": 69,
   "id": "074572a7",
   "metadata": {},
   "outputs": [
    {
     "data": {
      "text/plain": [
       "((1738534, 5), (1720978, 10))"
      ]
     },
     "execution_count": 69,
     "metadata": {},
     "output_type": "execute_result"
    }
   ],
   "source": [
    "dynamic_data.shape, df2.shape"
   ]
  },
  {
   "cell_type": "code",
   "execution_count": 70,
   "id": "0bee56f4",
   "metadata": {},
   "outputs": [
    {
     "data": {
      "text/html": [
       "<div>\n",
       "<style scoped>\n",
       "    .dataframe tbody tr th:only-of-type {\n",
       "        vertical-align: middle;\n",
       "    }\n",
       "\n",
       "    .dataframe tbody tr th {\n",
       "        vertical-align: top;\n",
       "    }\n",
       "\n",
       "    .dataframe thead th {\n",
       "        text-align: right;\n",
       "    }\n",
       "</style>\n",
       "<table border=\"1\" class=\"dataframe\">\n",
       "  <thead>\n",
       "    <tr style=\"text-align: right;\">\n",
       "      <th></th>\n",
       "      <th>time</th>\n",
       "      <th>value</th>\n",
       "      <th>RecordID</th>\n",
       "      <th>Age</th>\n",
       "      <th>Height</th>\n",
       "      <th>Weight</th>\n",
       "      <th>Length_of_stay</th>\n",
       "    </tr>\n",
       "  </thead>\n",
       "  <tbody>\n",
       "    <tr>\n",
       "      <th>count</th>\n",
       "      <td>1.720978e+06</td>\n",
       "      <td>1.720978e+06</td>\n",
       "      <td>1.720978e+06</td>\n",
       "      <td>1.720978e+06</td>\n",
       "      <td>1.720978e+06</td>\n",
       "      <td>1.720978e+06</td>\n",
       "      <td>1.720978e+06</td>\n",
       "    </tr>\n",
       "    <tr>\n",
       "      <th>mean</th>\n",
       "      <td>1.341986e+03</td>\n",
       "      <td>7.560401e+01</td>\n",
       "      <td>1.477475e+05</td>\n",
       "      <td>6.492318e+01</td>\n",
       "      <td>1.696672e+02</td>\n",
       "      <td>8.136557e+01</td>\n",
       "      <td>1.447896e+01</td>\n",
       "    </tr>\n",
       "    <tr>\n",
       "      <th>std</th>\n",
       "      <td>8.404158e+02</td>\n",
       "      <td>1.012175e+02</td>\n",
       "      <td>2.953386e+03</td>\n",
       "      <td>1.689644e+01</td>\n",
       "      <td>1.070794e+01</td>\n",
       "      <td>2.295686e+01</td>\n",
       "      <td>1.335769e+01</td>\n",
       "    </tr>\n",
       "    <tr>\n",
       "      <th>min</th>\n",
       "      <td>0.000000e+00</td>\n",
       "      <td>-1.780000e+01</td>\n",
       "      <td>1.426750e+05</td>\n",
       "      <td>1.600000e+01</td>\n",
       "      <td>5.100000e+00</td>\n",
       "      <td>3.000000e+01</td>\n",
       "      <td>2.000000e+00</td>\n",
       "    </tr>\n",
       "    <tr>\n",
       "      <th>25%</th>\n",
       "      <td>5.870000e+02</td>\n",
       "      <td>3.750000e+01</td>\n",
       "      <td>1.451460e+05</td>\n",
       "      <td>5.400000e+01</td>\n",
       "      <td>1.676000e+02</td>\n",
       "      <td>6.700000e+01</td>\n",
       "      <td>7.000000e+00</td>\n",
       "    </tr>\n",
       "    <tr>\n",
       "      <th>50%</th>\n",
       "      <td>1.296000e+03</td>\n",
       "      <td>7.100000e+01</td>\n",
       "      <td>1.477770e+05</td>\n",
       "      <td>6.800000e+01</td>\n",
       "      <td>1.696608e+02</td>\n",
       "      <td>7.950000e+01</td>\n",
       "      <td>1.000000e+01</td>\n",
       "    </tr>\n",
       "    <tr>\n",
       "      <th>75%</th>\n",
       "      <td>2.064000e+03</td>\n",
       "      <td>9.800000e+01</td>\n",
       "      <td>1.502898e+05</td>\n",
       "      <td>7.800000e+01</td>\n",
       "      <td>1.727000e+02</td>\n",
       "      <td>9.070000e+01</td>\n",
       "      <td>1.800000e+01</td>\n",
       "    </tr>\n",
       "    <tr>\n",
       "      <th>max</th>\n",
       "      <td>2.880000e+03</td>\n",
       "      <td>1.999000e+04</td>\n",
       "      <td>1.528640e+05</td>\n",
       "      <td>9.000000e+01</td>\n",
       "      <td>4.623000e+02</td>\n",
       "      <td>4.720000e+02</td>\n",
       "      <td>1.710000e+02</td>\n",
       "    </tr>\n",
       "  </tbody>\n",
       "</table>\n",
       "</div>"
      ],
      "text/plain": [
       "               time         value      RecordID           Age        Height  \\\n",
       "count  1.720978e+06  1.720978e+06  1.720978e+06  1.720978e+06  1.720978e+06   \n",
       "mean   1.341986e+03  7.560401e+01  1.477475e+05  6.492318e+01  1.696672e+02   \n",
       "std    8.404158e+02  1.012175e+02  2.953386e+03  1.689644e+01  1.070794e+01   \n",
       "min    0.000000e+00 -1.780000e+01  1.426750e+05  1.600000e+01  5.100000e+00   \n",
       "25%    5.870000e+02  3.750000e+01  1.451460e+05  5.400000e+01  1.676000e+02   \n",
       "50%    1.296000e+03  7.100000e+01  1.477770e+05  6.800000e+01  1.696608e+02   \n",
       "75%    2.064000e+03  9.800000e+01  1.502898e+05  7.800000e+01  1.727000e+02   \n",
       "max    2.880000e+03  1.999000e+04  1.528640e+05  9.000000e+01  4.623000e+02   \n",
       "\n",
       "             Weight  Length_of_stay  \n",
       "count  1.720978e+06    1.720978e+06  \n",
       "mean   8.136557e+01    1.447896e+01  \n",
       "std    2.295686e+01    1.335769e+01  \n",
       "min    3.000000e+01    2.000000e+00  \n",
       "25%    6.700000e+01    7.000000e+00  \n",
       "50%    7.950000e+01    1.000000e+01  \n",
       "75%    9.070000e+01    1.800000e+01  \n",
       "max    4.720000e+02    1.710000e+02  "
      ]
     },
     "execution_count": 70,
     "metadata": {},
     "output_type": "execute_result"
    }
   ],
   "source": [
    "df2.describe()"
   ]
  },
  {
   "cell_type": "code",
   "execution_count": 71,
   "id": "f7b247d9",
   "metadata": {},
   "outputs": [
    {
     "data": {
      "text/html": [
       "<div>\n",
       "<style scoped>\n",
       "    .dataframe tbody tr th:only-of-type {\n",
       "        vertical-align: middle;\n",
       "    }\n",
       "\n",
       "    .dataframe tbody tr th {\n",
       "        vertical-align: top;\n",
       "    }\n",
       "\n",
       "    .dataframe thead th {\n",
       "        text-align: right;\n",
       "    }\n",
       "</style>\n",
       "<table border=\"1\" class=\"dataframe\">\n",
       "  <thead>\n",
       "    <tr style=\"text-align: right;\">\n",
       "      <th></th>\n",
       "      <th>time</th>\n",
       "      <th>parameter</th>\n",
       "      <th>value</th>\n",
       "      <th>RecordID</th>\n",
       "      <th>Age</th>\n",
       "      <th>Gender</th>\n",
       "      <th>Height</th>\n",
       "      <th>ICUType</th>\n",
       "      <th>Weight</th>\n",
       "      <th>Length_of_stay</th>\n",
       "    </tr>\n",
       "  </thead>\n",
       "  <tbody>\n",
       "    <tr>\n",
       "      <th>0</th>\n",
       "      <td>4</td>\n",
       "      <td>DiasABP</td>\n",
       "      <td>60.0</td>\n",
       "      <td>144404</td>\n",
       "      <td>71</td>\n",
       "      <td>1</td>\n",
       "      <td>172.7</td>\n",
       "      <td>4</td>\n",
       "      <td>74.2</td>\n",
       "      <td>76</td>\n",
       "    </tr>\n",
       "    <tr>\n",
       "      <th>1</th>\n",
       "      <td>4</td>\n",
       "      <td>GCS</td>\n",
       "      <td>11.0</td>\n",
       "      <td>144404</td>\n",
       "      <td>71</td>\n",
       "      <td>1</td>\n",
       "      <td>172.7</td>\n",
       "      <td>4</td>\n",
       "      <td>74.2</td>\n",
       "      <td>76</td>\n",
       "    </tr>\n",
       "    <tr>\n",
       "      <th>2</th>\n",
       "      <td>4</td>\n",
       "      <td>HR</td>\n",
       "      <td>85.0</td>\n",
       "      <td>144404</td>\n",
       "      <td>71</td>\n",
       "      <td>1</td>\n",
       "      <td>172.7</td>\n",
       "      <td>4</td>\n",
       "      <td>74.2</td>\n",
       "      <td>76</td>\n",
       "    </tr>\n",
       "    <tr>\n",
       "      <th>3</th>\n",
       "      <td>4</td>\n",
       "      <td>MAP</td>\n",
       "      <td>90.0</td>\n",
       "      <td>144404</td>\n",
       "      <td>71</td>\n",
       "      <td>1</td>\n",
       "      <td>172.7</td>\n",
       "      <td>4</td>\n",
       "      <td>74.2</td>\n",
       "      <td>76</td>\n",
       "    </tr>\n",
       "    <tr>\n",
       "      <th>4</th>\n",
       "      <td>4</td>\n",
       "      <td>NIDiasABP</td>\n",
       "      <td>68.0</td>\n",
       "      <td>144404</td>\n",
       "      <td>71</td>\n",
       "      <td>1</td>\n",
       "      <td>172.7</td>\n",
       "      <td>4</td>\n",
       "      <td>74.2</td>\n",
       "      <td>76</td>\n",
       "    </tr>\n",
       "  </tbody>\n",
       "</table>\n",
       "</div>"
      ],
      "text/plain": [
       "   time  parameter  value  RecordID  Age Gender  Height ICUType  Weight  \\\n",
       "0     4    DiasABP   60.0    144404   71      1   172.7       4    74.2   \n",
       "1     4        GCS   11.0    144404   71      1   172.7       4    74.2   \n",
       "2     4         HR   85.0    144404   71      1   172.7       4    74.2   \n",
       "3     4        MAP   90.0    144404   71      1   172.7       4    74.2   \n",
       "4     4  NIDiasABP   68.0    144404   71      1   172.7       4    74.2   \n",
       "\n",
       "   Length_of_stay  \n",
       "0              76  \n",
       "1              76  \n",
       "2              76  \n",
       "3              76  \n",
       "4              76  "
      ]
     },
     "execution_count": 71,
     "metadata": {},
     "output_type": "execute_result"
    }
   ],
   "source": [
    "df2.head()"
   ]
  },
  {
   "cell_type": "code",
   "execution_count": 72,
   "id": "de4b0c4f",
   "metadata": {},
   "outputs": [],
   "source": []
  },
  {
   "cell_type": "code",
   "execution_count": 92,
   "id": "81bca19f",
   "metadata": {},
   "outputs": [
    {
     "data": {
      "text/html": [
       "<div>\n",
       "<style scoped>\n",
       "    .dataframe tbody tr th:only-of-type {\n",
       "        vertical-align: middle;\n",
       "    }\n",
       "\n",
       "    .dataframe tbody tr th {\n",
       "        vertical-align: top;\n",
       "    }\n",
       "\n",
       "    .dataframe thead th {\n",
       "        text-align: right;\n",
       "    }\n",
       "</style>\n",
       "<table border=\"1\" class=\"dataframe\">\n",
       "  <thead>\n",
       "    <tr style=\"text-align: right;\">\n",
       "      <th></th>\n",
       "      <th>time</th>\n",
       "      <th>parameter</th>\n",
       "      <th>value</th>\n",
       "      <th>RecordID</th>\n",
       "      <th>Age</th>\n",
       "      <th>Gender</th>\n",
       "      <th>Height</th>\n",
       "      <th>ICUType</th>\n",
       "      <th>Weight</th>\n",
       "      <th>Length_of_stay</th>\n",
       "    </tr>\n",
       "  </thead>\n",
       "  <tbody>\n",
       "    <tr>\n",
       "      <th>0</th>\n",
       "      <td>4</td>\n",
       "      <td>DiasABP</td>\n",
       "      <td>60.0</td>\n",
       "      <td>144404</td>\n",
       "      <td>71</td>\n",
       "      <td>1</td>\n",
       "      <td>172.7</td>\n",
       "      <td>4</td>\n",
       "      <td>74.2</td>\n",
       "      <td>76</td>\n",
       "    </tr>\n",
       "    <tr>\n",
       "      <th>10</th>\n",
       "      <td>4</td>\n",
       "      <td>Weight</td>\n",
       "      <td>74.2</td>\n",
       "      <td>144404</td>\n",
       "      <td>71</td>\n",
       "      <td>1</td>\n",
       "      <td>172.7</td>\n",
       "      <td>4</td>\n",
       "      <td>74.2</td>\n",
       "      <td>76</td>\n",
       "    </tr>\n",
       "    <tr>\n",
       "      <th>9</th>\n",
       "      <td>4</td>\n",
       "      <td>Urine</td>\n",
       "      <td>140.0</td>\n",
       "      <td>144404</td>\n",
       "      <td>71</td>\n",
       "      <td>1</td>\n",
       "      <td>172.7</td>\n",
       "      <td>4</td>\n",
       "      <td>74.2</td>\n",
       "      <td>76</td>\n",
       "    </tr>\n",
       "    <tr>\n",
       "      <th>7</th>\n",
       "      <td>4</td>\n",
       "      <td>SysABP</td>\n",
       "      <td>136.0</td>\n",
       "      <td>144404</td>\n",
       "      <td>71</td>\n",
       "      <td>1</td>\n",
       "      <td>172.7</td>\n",
       "      <td>4</td>\n",
       "      <td>74.2</td>\n",
       "      <td>76</td>\n",
       "    </tr>\n",
       "    <tr>\n",
       "      <th>6</th>\n",
       "      <td>4</td>\n",
       "      <td>NISysABP</td>\n",
       "      <td>147.0</td>\n",
       "      <td>144404</td>\n",
       "      <td>71</td>\n",
       "      <td>1</td>\n",
       "      <td>172.7</td>\n",
       "      <td>4</td>\n",
       "      <td>74.2</td>\n",
       "      <td>76</td>\n",
       "    </tr>\n",
       "    <tr>\n",
       "      <th>...</th>\n",
       "      <td>...</td>\n",
       "      <td>...</td>\n",
       "      <td>...</td>\n",
       "      <td>...</td>\n",
       "      <td>...</td>\n",
       "      <td>...</td>\n",
       "      <td>...</td>\n",
       "      <td>...</td>\n",
       "      <td>...</td>\n",
       "      <td>...</td>\n",
       "    </tr>\n",
       "    <tr>\n",
       "      <th>417</th>\n",
       "      <td>2824</td>\n",
       "      <td>NIDiasABP</td>\n",
       "      <td>47.0</td>\n",
       "      <td>144404</td>\n",
       "      <td>71</td>\n",
       "      <td>1</td>\n",
       "      <td>172.7</td>\n",
       "      <td>4</td>\n",
       "      <td>74.2</td>\n",
       "      <td>76</td>\n",
       "    </tr>\n",
       "    <tr>\n",
       "      <th>418</th>\n",
       "      <td>2824</td>\n",
       "      <td>NIMAP</td>\n",
       "      <td>61.0</td>\n",
       "      <td>144404</td>\n",
       "      <td>71</td>\n",
       "      <td>1</td>\n",
       "      <td>172.7</td>\n",
       "      <td>4</td>\n",
       "      <td>74.2</td>\n",
       "      <td>76</td>\n",
       "    </tr>\n",
       "    <tr>\n",
       "      <th>419</th>\n",
       "      <td>2824</td>\n",
       "      <td>NISysABP</td>\n",
       "      <td>109.0</td>\n",
       "      <td>144404</td>\n",
       "      <td>71</td>\n",
       "      <td>1</td>\n",
       "      <td>172.7</td>\n",
       "      <td>4</td>\n",
       "      <td>74.2</td>\n",
       "      <td>76</td>\n",
       "    </tr>\n",
       "    <tr>\n",
       "      <th>420</th>\n",
       "      <td>2824</td>\n",
       "      <td>Urine</td>\n",
       "      <td>110.0</td>\n",
       "      <td>144404</td>\n",
       "      <td>71</td>\n",
       "      <td>1</td>\n",
       "      <td>172.7</td>\n",
       "      <td>4</td>\n",
       "      <td>74.2</td>\n",
       "      <td>76</td>\n",
       "    </tr>\n",
       "    <tr>\n",
       "      <th>421</th>\n",
       "      <td>2824</td>\n",
       "      <td>Weight</td>\n",
       "      <td>74.2</td>\n",
       "      <td>144404</td>\n",
       "      <td>71</td>\n",
       "      <td>1</td>\n",
       "      <td>172.7</td>\n",
       "      <td>4</td>\n",
       "      <td>74.2</td>\n",
       "      <td>76</td>\n",
       "    </tr>\n",
       "  </tbody>\n",
       "</table>\n",
       "<p>422 rows × 10 columns</p>\n",
       "</div>"
      ],
      "text/plain": [
       "     time  parameter  value  RecordID  Age Gender  Height ICUType  Weight  \\\n",
       "0       4    DiasABP   60.0    144404   71      1   172.7       4    74.2   \n",
       "10      4     Weight   74.2    144404   71      1   172.7       4    74.2   \n",
       "9       4      Urine  140.0    144404   71      1   172.7       4    74.2   \n",
       "7       4     SysABP  136.0    144404   71      1   172.7       4    74.2   \n",
       "6       4   NISysABP  147.0    144404   71      1   172.7       4    74.2   \n",
       "..    ...        ...    ...       ...  ...    ...     ...     ...     ...   \n",
       "417  2824  NIDiasABP   47.0    144404   71      1   172.7       4    74.2   \n",
       "418  2824      NIMAP   61.0    144404   71      1   172.7       4    74.2   \n",
       "419  2824   NISysABP  109.0    144404   71      1   172.7       4    74.2   \n",
       "420  2824      Urine  110.0    144404   71      1   172.7       4    74.2   \n",
       "421  2824     Weight   74.2    144404   71      1   172.7       4    74.2   \n",
       "\n",
       "     Length_of_stay  \n",
       "0                76  \n",
       "10               76  \n",
       "9                76  \n",
       "7                76  \n",
       "6                76  \n",
       "..              ...  \n",
       "417              76  \n",
       "418              76  \n",
       "419              76  \n",
       "420              76  \n",
       "421              76  \n",
       "\n",
       "[422 rows x 10 columns]"
      ]
     },
     "execution_count": 92,
     "metadata": {},
     "output_type": "execute_result"
    }
   ],
   "source": [
    "df2[df2['RecordID']==144404].sort_values('time')"
   ]
  },
  {
   "cell_type": "code",
   "execution_count": 89,
   "id": "816df8b5",
   "metadata": {},
   "outputs": [],
   "source": [
    "ids = df2.RecordID.unique()"
   ]
  },
  {
   "cell_type": "code",
   "execution_count": 90,
   "id": "4367cf2e",
   "metadata": {},
   "outputs": [
    {
     "data": {
      "text/html": [
       "<div>\n",
       "<style scoped>\n",
       "    .dataframe tbody tr th:only-of-type {\n",
       "        vertical-align: middle;\n",
       "    }\n",
       "\n",
       "    .dataframe tbody tr th {\n",
       "        vertical-align: top;\n",
       "    }\n",
       "\n",
       "    .dataframe thead th {\n",
       "        text-align: right;\n",
       "    }\n",
       "</style>\n",
       "<table border=\"1\" class=\"dataframe\">\n",
       "  <thead>\n",
       "    <tr style=\"text-align: right;\">\n",
       "      <th></th>\n",
       "      <th>time</th>\n",
       "      <th>RecordID</th>\n",
       "      <th>Age</th>\n",
       "      <th>Gender</th>\n",
       "      <th>Height</th>\n",
       "      <th>ICUType</th>\n",
       "      <th>Weight</th>\n",
       "      <th>Length_of_stay</th>\n",
       "      <th>DiasABP</th>\n",
       "      <th>GCS</th>\n",
       "      <th>...</th>\n",
       "      <th>Mg</th>\n",
       "      <th>Platelets</th>\n",
       "      <th>K</th>\n",
       "      <th>Na</th>\n",
       "      <th>WBC</th>\n",
       "      <th>Lactate</th>\n",
       "      <th>Cholesterol</th>\n",
       "      <th>RespRate</th>\n",
       "      <th>TroponinT</th>\n",
       "      <th>TroponinI</th>\n",
       "    </tr>\n",
       "  </thead>\n",
       "  <tbody>\n",
       "  </tbody>\n",
       "</table>\n",
       "<p>0 rows × 45 columns</p>\n",
       "</div>"
      ],
      "text/plain": [
       "Empty DataFrame\n",
       "Columns: [time, RecordID, Age, Gender, Height, ICUType, Weight, Length_of_stay, DiasABP, GCS, HR, MAP, NIDiasABP, NIMAP, NISysABP, SysABP, Temp, Urine, Weight, FiO2, MechVent, pH, PaCO2, PaO2, SaO2, Albumin, ALP, ALT, AST, Bilirubin, BUN, Creatinine, Glucose, HCO3, HCT, Mg, Platelets, K, Na, WBC, Lactate, Cholesterol, RespRate, TroponinT, TroponinI]\n",
       "Index: []\n",
       "\n",
       "[0 rows x 45 columns]"
      ]
     },
     "execution_count": 90,
     "metadata": {},
     "output_type": "execute_result"
    }
   ],
   "source": [
    "record_list = []\n",
    "static_cols = ['RecordID', 'Age', 'Gender', 'Height', 'ICUType', 'Weight', 'Length_of_stay']\n",
    "\n",
    "cols = ['time'] + static_cols + list(parameter)\n",
    "for i in ids:\n",
    "    df_id = df2[df2['RecordID']==i].sort_values('time')\n",
    "    static_values = df_id.iloc[0, 1:len(static_cols)] \n",
    "    r_init = [0] + static_values + ['']*(len(cols)-len(static_cols))\n",
    "    record_list.append(r_init)\n",
    "    for row in df2.itertuples():\n",
    "        record = [row['time']] + static_values + row\n",
    "        records.append(record)\n",
    "\n",
    "data = pd.DataFrame(records, columns=cols)"
   ]
  },
  {
   "cell_type": "code",
   "execution_count": 97,
   "id": "d6338b47",
   "metadata": {},
   "outputs": [
    {
     "data": {
      "text/plain": [
       "45"
      ]
     },
     "execution_count": 97,
     "metadata": {},
     "output_type": "execute_result"
    }
   ],
   "source": [
    "len(cols)"
   ]
  },
  {
   "cell_type": "code",
   "execution_count": 110,
   "id": "c47a5c01",
   "metadata": {},
   "outputs": [
    {
     "ename": "TypeError",
     "evalue": "can only concatenate list (not \"NoneType\") to list",
     "output_type": "error",
     "traceback": [
      "\u001b[0;31m---------------------------------------------------------------------------\u001b[0m",
      "\u001b[0;31mTypeError\u001b[0m                                 Traceback (most recent call last)",
      "\u001b[0;32m/var/folders/9h/cdvqznp50mx0r68g87d5fw_h0000gn/T/ipykernel_32069/1479856958.py\u001b[0m in \u001b[0;36m<module>\u001b[0;34m\u001b[0m\n\u001b[1;32m      1\u001b[0m \u001b[0mstatic_cols\u001b[0m \u001b[0;34m=\u001b[0m \u001b[0;34m[\u001b[0m\u001b[0;34m'RecordID'\u001b[0m\u001b[0;34m,\u001b[0m \u001b[0;34m'Age'\u001b[0m\u001b[0;34m,\u001b[0m \u001b[0;34m'Gender'\u001b[0m\u001b[0;34m,\u001b[0m \u001b[0;34m'Height'\u001b[0m\u001b[0;34m,\u001b[0m \u001b[0;34m'ICUType'\u001b[0m\u001b[0;34m,\u001b[0m \u001b[0;34m'Weight'\u001b[0m\u001b[0;34m,\u001b[0m \u001b[0;34m'Length_of_stay'\u001b[0m\u001b[0;34m]\u001b[0m\u001b[0;34m\u001b[0m\u001b[0;34m\u001b[0m\u001b[0m\n\u001b[0;32m----> 2\u001b[0;31m \u001b[0mcols\u001b[0m \u001b[0;34m=\u001b[0m \u001b[0;34m[\u001b[0m\u001b[0;34m'time'\u001b[0m\u001b[0;34m]\u001b[0m \u001b[0;34m+\u001b[0m \u001b[0mstatic_cols\u001b[0m \u001b[0;34m+\u001b[0m \u001b[0mlist\u001b[0m\u001b[0;34m(\u001b[0m\u001b[0mparameter\u001b[0m\u001b[0;34m)\u001b[0m\u001b[0;34m.\u001b[0m\u001b[0mremove\u001b[0m\u001b[0;34m(\u001b[0m\u001b[0;34m'Weight'\u001b[0m\u001b[0;34m)\u001b[0m\u001b[0;34m\u001b[0m\u001b[0;34m\u001b[0m\u001b[0m\n\u001b[0m",
      "\u001b[0;31mTypeError\u001b[0m: can only concatenate list (not \"NoneType\") to list"
     ]
    }
   ],
   "source": [
    "static_cols = ['RecordID', 'Age', 'Gender', 'Height', 'ICUType', 'Weight', 'Length_of_stay']\n",
    "cols = ['time'] + static_cols + list(parameter).remove('Weight')"
   ]
  },
  {
   "cell_type": "code",
   "execution_count": 105,
   "id": "1b2fbc91",
   "metadata": {},
   "outputs": [],
   "source": [
    "cols.remove('Weight')"
   ]
  },
  {
   "cell_type": "code",
   "execution_count": 107,
   "id": "1b795e3b",
   "metadata": {},
   "outputs": [
    {
     "data": {
      "text/plain": [
       "['time',\n",
       " 'RecordID',\n",
       " 'Age',\n",
       " 'Gender',\n",
       " 'Height',\n",
       " 'ICUType',\n",
       " 'Length_of_stay',\n",
       " 'DiasABP',\n",
       " 'GCS',\n",
       " 'HR',\n",
       " 'MAP',\n",
       " 'NIDiasABP',\n",
       " 'NIMAP',\n",
       " 'NISysABP',\n",
       " 'SysABP',\n",
       " 'Temp',\n",
       " 'Urine',\n",
       " 'Weight',\n",
       " 'FiO2',\n",
       " 'MechVent',\n",
       " 'pH',\n",
       " 'PaCO2',\n",
       " 'PaO2',\n",
       " 'SaO2',\n",
       " 'Albumin',\n",
       " 'ALP',\n",
       " 'ALT',\n",
       " 'AST',\n",
       " 'Bilirubin',\n",
       " 'BUN',\n",
       " 'Creatinine',\n",
       " 'Glucose',\n",
       " 'HCO3',\n",
       " 'HCT',\n",
       " 'Mg',\n",
       " 'Platelets',\n",
       " 'K',\n",
       " 'Na',\n",
       " 'WBC',\n",
       " 'Lactate',\n",
       " 'Cholesterol',\n",
       " 'RespRate',\n",
       " 'TroponinT',\n",
       " 'TroponinI']"
      ]
     },
     "execution_count": 107,
     "metadata": {},
     "output_type": "execute_result"
    }
   ],
   "source": [
    "cols"
   ]
  },
  {
   "cell_type": "code",
   "execution_count": null,
   "id": "c5fc712f",
   "metadata": {},
   "outputs": [],
   "source": []
  }
 ],
 "metadata": {
  "kernelspec": {
   "display_name": "Python [conda env:tf_himarley]",
   "language": "python",
   "name": "conda-env-tf_himarley-py"
  },
  "language_info": {
   "codemirror_mode": {
    "name": "ipython",
    "version": 3
   },
   "file_extension": ".py",
   "mimetype": "text/x-python",
   "name": "python",
   "nbconvert_exporter": "python",
   "pygments_lexer": "ipython3",
   "version": "3.8.12"
  }
 },
 "nbformat": 4,
 "nbformat_minor": 5
}
